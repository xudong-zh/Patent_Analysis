{
 "cells": [
  {
   "cell_type": "markdown",
   "metadata": {},
   "source": [
    "### **About this document**\n",
    "##### **Module Name:** Data Science for Spatial Systems (CASA0006)\n",
    "##### **Student ID:** ucfnxz0\n",
    "##### **Title:** Patent Analysis for China's Epidemic Prevention Products\n",
    "***"
   ]
  },
  {
   "cell_type": "markdown",
   "metadata": {},
   "source": [
    "## **Patent Analysis for China's Epidemic Prevention Products**\n",
    "<p style=\"color:DimGray; text-align:left; font-size:18px\"><i> Based on clustering method and machine learning  </i></p>\n",
    "<a id=\"ID_title\"></a>"
   ]
  },
  {
   "cell_type": "markdown",
   "metadata": {},
   "source": [
    "<p style=\"color:DimGray; text-align:left;\"><i>This paper explores the predictive traits of patents of Epidemic Prevention Products (EPP) and looks deep into the multi-level distribution pattern of technologies used in patents. <br> The results show that an agglomeration in the types of patent technologies owned by cities has emerged. The predictive model built by China's EPP dataset could be used to detect other relevant patents.</i></p>"
   ]
  },
  {
   "cell_type": "markdown",
   "metadata": {},
   "source": [
    "## 1.0 | Introduction"
   ]
  },
  {
   "cell_type": "markdown",
   "metadata": {},
   "source": [
    "This paper contains these parts: data gathering, methods used in this document, data processing and results. Using open data (the patent dataset of epidemic prevention products) from China Patent Information Center, this paper tries to complete the following tasks: \n",
    "\n",
    "    (1) find the aggregation of technologies' types at the city or province level; \n",
    "    (2) build a predictive model for future detection of EPP relevant patents.\n",
    "\n",
    "For helping users better understanding the analysis, this paper keeps the explanations, such as the introduction of various methods, the comments of processing procedures, as supplements.\n",
    "\n",
    "***"
   ]
  },
  {
   "cell_type": "markdown",
   "metadata": {},
   "source": [
    "### 1.1 | The Requirements of Environment to Run the Analysis"
   ]
  },
  {
   "cell_type": "markdown",
   "metadata": {},
   "source": [
    "**Some external packages could be installed from below pip codes.**<br>\n",
    "pip install google-cloud-bigquery<br>\n",
    "pip install --upgrade google-api-python-client<br>\n",
    "pip3 install --upgrade oauth2client<br>\n",
    "pip install pandas-gbq -U<br>\n",
    "pip install yellowbrick<br>\n",
    "\n",
    "The external packages need to be used in this notebook: bigquery, GoogleCredentials.<br>\n",
    "\n",
    "**NOTE: After unzipping the zip file, please keep the json file in the same direction as this notebook.**"
   ]
  },
  {
   "cell_type": "code",
   "execution_count": 1,
   "metadata": {},
   "outputs": [],
   "source": [
    "%matplotlib inline\n",
    "#import some stuffs\n",
    "from google.cloud import bigquery\n",
    "from oauth2client.client import GoogleCredentials\n",
    "from googleapiclient import discovery\n",
    "from IPython.display import display, HTML"
   ]
  },
  {
   "cell_type": "markdown",
   "metadata": {},
   "source": [
    "Here below is the credential used for asking Google Cloud service."
   ]
  },
  {
   "cell_type": "code",
   "execution_count": 2,
   "metadata": {},
   "outputs": [],
   "source": [
    "import os\n",
    "from google.cloud.bigquery.client import Client\n",
    "os.environ['GOOGLE_APPLICATION_CREDENTIALS'] = './patent-309912-a7496452b092.json'"
   ]
  },
  {
   "cell_type": "markdown",
   "metadata": {},
   "source": [
    "The package used for machine learning."
   ]
  },
  {
   "cell_type": "code",
   "execution_count": 3,
   "metadata": {},
   "outputs": [],
   "source": [
    "from sklearn.pipeline import Pipeline\n",
    "from sklearn.linear_model import SGDClassifier\n",
    "from sklearn.model_selection import GridSearchCV\n",
    "from sklearn.feature_extraction.text import TfidfTransformer\n",
    "from sklearn.feature_extraction.text import CountVectorizer\n",
    "from sklearn.model_selection import cross_val_score\n",
    "from sklearn.utils import shuffle\n",
    "from sklearn.model_selection import train_test_split\n",
    "from sklearn.metrics import confusion_matrix\n",
    "from sklearn import metrics,datasets,manifold\n",
    "from sklearn.model_selection import validation_curve\n",
    "from sklearn.cluster import KMeans\n",
    "\n",
    "from yellowbrick.cluster import KElbowVisualizer\n",
    "from yellowbrick.cluster import intercluster_distance\n",
    "import sklearn.cluster as sk_cluster \n",
    "\n",
    "import joblib"
   ]
  },
  {
   "cell_type": "markdown",
   "metadata": {},
   "source": [
    "Some common packages."
   ]
  },
  {
   "cell_type": "code",
   "execution_count": 4,
   "metadata": {},
   "outputs": [],
   "source": [
    "import pandas as pd\n",
    "import numpy as np\n",
    "import seaborn as sns\n",
    "import matplotlib.pylab as plt\n",
    "import matplotlib.patches as mpatches\n",
    "from scipy import optimize\n",
    "import collections\n",
    "from collections import Counter"
   ]
  },
  {
   "cell_type": "markdown",
   "metadata": {},
   "source": [
    "***"
   ]
  },
  {
   "cell_type": "markdown",
   "metadata": {},
   "source": [
    "## 2.0 | Literature Review"
   ]
  },
  {
   "cell_type": "markdown",
   "metadata": {},
   "source": [
    "**Previous Studies**<br>\n",
    "\n",
    "Since Schumpeter put forward that \"innovation is the source of economic growth\", the relationships among technologies, economic factors and innovation progress have received unprecedented attention in the academic area. Economic geographers have conducted a large number of studies on technological diffusion and innovation clustering. Some research paradigms have been proposed, such as the environment of innovation proposed by GREMI (Aydalot and Keeble, 1988), new industrial district (Granovetter, 1985; AMIN and THRIFT, 1992), industrial cluster and innovation cluster (Das,1998), national innovation system(Cooke, 1992; Georghiou, 1993), etc. In previous studies, the core point scholars proposed that innovation activities have prominent spatial agglomeration trait(Feldman,1994).To Understand the factors and mechanism that influence the agglomeration of innovation activities, scholars used R&D, patent, number of newly formed companies in the specific industry and their geographical distribution, number of the published papers, and other types of data to measure the input and output of innovation.\n",
    "\n",
    "In recent years, scholars tried to classify different types of industries based on knowledge. Asheim et al. (Asheim, Coenen and Vang, 2007) divided industries into three types: science-based, engineering-based, and art-based industry. Plum et al. discussed the difference in knowledge network characteristics between the two knowledge bases: the analytical knowledge base and synthetic knowledge(Plum and Hassink, 2011). These classifications improve the accuracy of innovation research. Some scholars also studied innovation performance in the specific industry. Taking the pharmaceutical industry as an example, they found that functional proximity is more important to the innovation of the biomedical industry than geographical proximity(Coenen, Moodysson and Asheim, 2004). However, other scholars believe that the interactions among localized organizations are the internal mechanism of cluster innovation(Bagchi-Sen, Smith and Hall, 2004).\n",
    "\n",
    "\n",
    "For patents analysis, it has been regarded as an effective method to detect the level of innovation in one region. Patent documents could reflect the embedded technologies the inventors use and the usage rights they claim. (Park, Yoon and Lee, 2005) Due to the invention of ‘cutting-edge’ technologies, researchers applied various new methods, such as networks, machine learning, artificial intelligence, modelling for spatial interaction, to discover the knowledge of patents. The results from the patent analysis could be used for detecting the emerging technologies, their clusters and trends, which could be evidence for governments to undertake policies for promoting innovation.\n",
    "\n",
    "\n",
    "**Data** <br>\n",
    "\n",
    "This EPP dataset contains 4150 records at the end of February 2020. The first EPP patent was recorded in 1995. It contains information such as name, city/province/country, publication number, abstract, IPC number, disclosure date, applicants, and enterprise's exact address. \n",
    "\n",
    "In terms of patent classification structure, each patent is classified by one or more IPC numbers. IPC number stands for International Patent Classification. It is administrated by WIPO (Worldwide Intellectual Property Office). The structure of the complete IPC number contains five levels, which are level I-V. Taking **C07H19/00** as an example, the first character ‘**C**’ belongs to level I, which means that the patent belongs to chemistry and metallurgy. **C07** belongs to level II, which refers to organic chemistry. **C07H** belongs to level III, referring to ‘sugars; derivatives thereof; nucleosides; nucleic acid’. **C07H19/00** belongs to level IV, and it refers to ‘compounds containing a hetero ring sharing one ring hetero atom with a saccharide radical; Nucleosides; Mononucleotides; Anhydro derivatives thereof’. This patent number does not refer to level V, which is more detailed.\n",
    "\n",
    "Some papers regarded IPC classification as technologies used in patents. Jun et al. (Jun, Park and Jang, 2012) defined promising technologies by using association rule mining of IPC for the patent document. Shih et al. (Shih, Liu and Hsu, 2010) changed the parameters of patents in each simulation step to identify the promising technologies. This paper takes the same definition of using IPC as the patent's technology. \n",
    "\n",
    "Also, level III of the IPC number (such as C07H) could be more detailed than the previous two levels. It could reflect general technologies features used in a patent. On the other hand, it could be regarded as the category of level IV or V, convenient for researchers to group the similarities among patents' technologies. This paper chooses level III of IPC number to find the similarities among technologies in the cities， which will benefit searching technologies clusters.\n",
    "\n",
    "**Research Questions**<br>\n",
    "\n",
    "According to the tasks proposed in the introduction part, these research questions could lead to further investigations:\n",
    "\n",
    "    RQ1 | How do China's cities cluster when considering various types of EPP patent technologies they own?\n",
    "    RQ2 | How could an EPP patent prediction model be built by using Machine Learning on patent documents? How accurate is this model's prediction?\n",
    "    \n",
    "\n",
    "Finally, as the source data is available across city and province level, this paper also focuses on:\n",
    "    \n",
    "    RQ3 | Is there any clustering difference when two types of space scale are implemented?\n",
    "    "
   ]
  },
  {
   "cell_type": "markdown",
   "metadata": {},
   "source": [
    "***"
   ]
  },
  {
   "cell_type": "markdown",
   "metadata": {},
   "source": [
    "## 3.0 | Methodology"
   ]
  },
  {
   "cell_type": "markdown",
   "metadata": {},
   "source": [
    "**Method**<br>\n",
    "\n",
    "The main methods used in this paper could be categorized into two parts:<br>\n",
    "\n",
    "**Machine learning method group** is a method group that mainly contains supervised trait here. The training and test datasets are needed in the process of training, validating and testing the model. Each EPP patent instance in the training set will be labelled to 1 (Here, we could regard it as the symbol of 'ground truths'), which means that this patent belongs to the EPP dataset. The other patents belong to group 0, meaning that they are not included in the EPP dataset. This classification could help the machine learn the traits of classifying the unknown dataset to the EPP dataset. \n",
    "\n",
    "The methods used for training the model are: **TF-IDF**, **SGDClassifier( )**. \n",
    "\n",
    "    TF-IDF calculates two variables: one is the frequency of a word in a document; another one is the frequency of a word in the whole document set. TF-IDF could tell use how relevant a word is to a specific document in the whole documents dataset. \n",
    "\n",
    "    SGDClassifier is a linear classifier optimized by SGD (Stochastic Gradient Descent). SGD could make the process more efficient. It is common to combine TF-IDF with SGDClassifier to process the text documents.\n",
    "\n",
    "**Clustering method group** is an unsupervised method group in comparison. For example, the machine does not need to understand the 'ground truths' before separating the sample into k groups when using **K-Means**. However, K-Means requires the numbers of clusters (k) as the input. Thus, determining and validating the k are the core issues to be done. Various papers have used this method to detect technology clusters in a patent dataset, such as Jun (Jun, 2016) and Kim (Kim and Bae, 2017). Both of them used Multidimensional Reduction and K-Means clustering to identify the technology clusters for predicting.\n",
    "\n",
    "The main methods used for clustering in this paper are: **MDS**, **tests for k value**. \n",
    "\n",
    "    MDS (multidimensional reduction) is used for reducing the dimensions of the documents. It uses the distance matrix of instances in the original document as the input, calculating double centring, selecting n largest eigenvalues and corresponding eigenvectors, and multiplying the diagonal matrix of the n largest eigenvalues with the matrix of n eigenvectors. Usually, n is assigned to 2 for 2-D visualisation.\n",
    "\n",
    "    As for the k value tests, this paper will use distortion and silhouette to test, and the elbow value and its score will determine the k.\n",
    "\n",
    "In the below sections, the paper will be carried out by doing these procedures: gathering the data we need, cleaning and preprocessing the data to fit the structure the algorithms need, analysing the data and displaying the results.\n"
   ]
  },
  {
   "cell_type": "markdown",
   "metadata": {},
   "source": [
    "***"
   ]
  },
  {
   "cell_type": "markdown",
   "metadata": {},
   "source": [
    "## 4.0 | Data Gathering"
   ]
  },
  {
   "cell_type": "markdown",
   "metadata": {},
   "source": [
    "The original dataset was separated into three parts based on its columns. All the datasets contain the same records as the original dataset. Here we use these  datasets as our input."
   ]
  },
  {
   "cell_type": "code",
   "execution_count": 5,
   "metadata": {},
   "outputs": [],
   "source": [
    "df_training_set = pd.read_csv('https://raw.githubusercontent.com/xudong-zh/DSSS-Final-Project/main/data/training_set.csv') \n",
    "df_clustering_raw = pd.read_csv('https://raw.githubusercontent.com/xudong-zh/DSSS-Final-Project/main/data/cluster_sample_ipc.csv')\n",
    "df_region = pd.read_csv('https://raw.githubusercontent.com/xudong-zh/DSSS-Final-Project/main/data/region.csv')"
   ]
  },
  {
   "cell_type": "markdown",
   "metadata": {},
   "source": [
    "**Main Variable Descriptions**\n",
    "\n",
    "- **Publication number**: the unique id of one patent authorized by relevant agency.\n",
    "- **Abstract**: descriptions of function of patent\n",
    "- **Disclosure Date**: the date patent published\n",
    "- **IPC**: International Patent Classification, it shows the technologies used in one patent.This is defined by WIPO (Worldwide Intellectual Property Office). Each patent may contain one or more IPC number.\n",
    "- **Countries/provinces/cities**: the location of company which applicants belong to.\n",
    "- **Patent citation**: the patents'  that were cited\n",
    "- **Current statues**: valid or invalid information.This shows whether the technologies this patent claims are under protection of Intellectual Property law or not.\n",
    "- **Type of patent**: invention, utility, appearance design.\n",
    "- **Applicants**: most of them are organisation,company, university.\n",
    "- **Inventors**: those who have made contributions to corresponding patents.\n",
    "- **Main Classification**: the main IPC labelled to the patent which could reflect the main technology used in the patent, such as C07D309/10.\n",
    "- **A61K,A61P ...**: specific technologies' category defined by WIPO. They are parts of IPC numbers and they could refect the technologies contents at level III. Notice that, if we regard the complete IPC number as specific technologies, the level III number could be criteria of classification. In 'cluster_sample_ipc.csv' file, the the number 1 in each relevant column means that the patent is included in this type of technology."
   ]
  },
  {
   "cell_type": "markdown",
   "metadata": {},
   "source": [
    "#### 4.1 | Data Used for Dectecting EPP Patents."
   ]
  },
  {
   "cell_type": "code",
   "execution_count": 6,
   "metadata": {},
   "outputs": [],
   "source": [
    "#change the format of the publication number from US1234567B2 to US-1234567-B2 to match the format in the database\n",
    "df_training_set['Publication_Number'] = df_training_set['Publication_Number'].str.replace(r\"(\\D*)(\\d*)(\\D\\d?)\", \"\\\\1-\\\\2-\\\\3\")"
   ]
  },
  {
   "cell_type": "code",
   "execution_count": 7,
   "metadata": {},
   "outputs": [
    {
     "data": {
      "text/html": [
       "<div>\n",
       "<style scoped>\n",
       "    .dataframe tbody tr th:only-of-type {\n",
       "        vertical-align: middle;\n",
       "    }\n",
       "\n",
       "    .dataframe tbody tr th {\n",
       "        vertical-align: top;\n",
       "    }\n",
       "\n",
       "    .dataframe thead th {\n",
       "        text-align: right;\n",
       "    }\n",
       "</style>\n",
       "<table border=\"1\" class=\"dataframe\">\n",
       "  <thead>\n",
       "    <tr style=\"text-align: right;\">\n",
       "      <th></th>\n",
       "      <th>Publication_Number</th>\n",
       "      <th>Label</th>\n",
       "    </tr>\n",
       "  </thead>\n",
       "  <tbody>\n",
       "    <tr>\n",
       "      <th>0</th>\n",
       "      <td>CN-103052631-A</td>\n",
       "      <td>1</td>\n",
       "    </tr>\n",
       "    <tr>\n",
       "      <th>1</th>\n",
       "      <td>CN-105343098-A</td>\n",
       "      <td>1</td>\n",
       "    </tr>\n",
       "    <tr>\n",
       "      <th>2</th>\n",
       "      <td>CN-108348526-A</td>\n",
       "      <td>1</td>\n",
       "    </tr>\n",
       "    <tr>\n",
       "      <th>3</th>\n",
       "      <td>CN-107073005-A</td>\n",
       "      <td>1</td>\n",
       "    </tr>\n",
       "    <tr>\n",
       "      <th>4</th>\n",
       "      <td>CN-106573954-A</td>\n",
       "      <td>1</td>\n",
       "    </tr>\n",
       "  </tbody>\n",
       "</table>\n",
       "</div>"
      ],
      "text/plain": [
       "  Publication_Number  Label\n",
       "0     CN-103052631-A      1\n",
       "1     CN-105343098-A      1\n",
       "2     CN-108348526-A      1\n",
       "3     CN-107073005-A      1\n",
       "4     CN-106573954-A      1"
      ]
     },
     "execution_count": 7,
     "metadata": {},
     "output_type": "execute_result"
    }
   ],
   "source": [
    "#show the training set to see what it looks like.  Make sure it imported correctly.\n",
    "df_training_set.drop_duplicates(['Publication_Number'], inplace=True)\n",
    "df_training_set.head()"
   ]
  },
  {
   "cell_type": "code",
   "execution_count": 8,
   "metadata": {},
   "outputs": [
    {
     "name": "stderr",
     "output_type": "stream",
     "text": [
      "1it [00:04,  4.37s/it]\n"
     ]
    }
   ],
   "source": [
    "#load the dataset to Google BigQuery \n",
    "\n",
    "PROJECT_ID = 'patent-309912' # this project ID\n",
    "DEST_DATASET = 'my_new_dataset'\n",
    "samples_table = 'training_patents'\n",
    "\n",
    "# Create a python client \n",
    "client = bigquery.Client(project=PROJECT_ID)\n",
    "\n",
    "# Create an HTTP client for additional functionality.\n",
    "credentials = GoogleCredentials.get_application_default()\n",
    "http_client = discovery.build('bigquery', 'v2', credentials=credentials)\n",
    "\n",
    "#attach to the dataset\n",
    "dataset = client.dataset(DEST_DATASET)\n",
    "\n",
    "#create the table \n",
    "full_table_path = '{}.{}'.format(DEST_DATASET, samples_table)\n",
    "df_training_set.to_gbq(destination_table=full_table_path,\n",
    "          project_id=PROJECT_ID,\n",
    "          if_exists='replace')"
   ]
  },
  {
   "cell_type": "markdown",
   "metadata": {},
   "source": [
    "We will use the title, abstract, and IPC codes combined into one text block to feed into the machine learning code for our training data."
   ]
  },
  {
   "cell_type": "code",
   "execution_count": 9,
   "metadata": {},
   "outputs": [
    {
     "name": "stdout",
     "output_type": "stream",
     "text": [
      "Shape: (1582, 3)\n"
     ]
    }
   ],
   "source": [
    "#Create our query string. \n",
    "query = \"\"\"\n",
    "select pubs.publication_number, Label,\n",
    "  CONCAT(\n",
    "    IFNULL(\n",
    "     (SELECT text from UNNEST(pubs.title_localized)LIMIT 1), \" \"), \" \",\n",
    "    IFNULL(\n",
    "     (SELECT text from UNNEST(pubs.abstract_localized) LIMIT 1), \" \"), \" \",\n",
    "    IFNULL(\n",
    "     ARRAY_TO_STRING( ARRAY(SELECT code from UNNEST(pubs.ipc)LIMIT 1), \" \"), \" \" ), \" \",\n",
    "    IFNULL(\n",
    "     ARRAY_TO_STRING( ARRAY(SELECT REGEXP_REPLACE( code, \"/.*\", \"\") from UNNEST(pubs.ipc)LIMIT 1), \" \"), \" \")) as text\n",
    "from\n",
    "  `patents-public-data.patents.publications` as pubs, UNNEST(title_localized) as title\n",
    "  JOIN `\"\"\" + full_table_path + \"\"\"` as input\n",
    "  on pubs.publication_number = input.publication_number  \n",
    "where (SELECT language from UNNEST(pubs.title_localized) LIMIT 1) = 'en' and\n",
    "(SELECT language from UNNEST(pubs.abstract_localized) LIMIT 1) = 'en'\n",
    "\"\"\"\n",
    "df_training_set_finished = pd.read_gbq(query, project_id=PROJECT_ID, dialect='standard')\n",
    "df_training_set_finished.drop_duplicates(['publication_number'], inplace=True)\n",
    "\n",
    "#check to make sure we got back a dataset that looks right.\n",
    "print(\"Shape:\", df_training_set_finished.shape)"
   ]
  },
  {
   "cell_type": "code",
   "execution_count": 10,
   "metadata": {},
   "outputs": [
    {
     "data": {
      "text/html": [
       "<div>\n",
       "<style scoped>\n",
       "    .dataframe tbody tr th:only-of-type {\n",
       "        vertical-align: middle;\n",
       "    }\n",
       "\n",
       "    .dataframe tbody tr th {\n",
       "        vertical-align: top;\n",
       "    }\n",
       "\n",
       "    .dataframe thead th {\n",
       "        text-align: right;\n",
       "    }\n",
       "</style>\n",
       "<table border=\"1\" class=\"dataframe\">\n",
       "  <thead>\n",
       "    <tr style=\"text-align: right;\">\n",
       "      <th></th>\n",
       "      <th>publication_number</th>\n",
       "      <th>Label</th>\n",
       "      <th>text</th>\n",
       "    </tr>\n",
       "  </thead>\n",
       "  <tbody>\n",
       "    <tr>\n",
       "      <th>0</th>\n",
       "      <td>US-8375302-B2</td>\n",
       "      <td>0</td>\n",
       "      <td>Example based video editing Enabling creation ...</td>\n",
       "    </tr>\n",
       "    <tr>\n",
       "      <th>1</th>\n",
       "      <td>US-7644414-B2</td>\n",
       "      <td>0</td>\n",
       "      <td>Application program interface for network soft...</td>\n",
       "    </tr>\n",
       "    <tr>\n",
       "      <th>2</th>\n",
       "      <td>US-7676461-B2</td>\n",
       "      <td>0</td>\n",
       "      <td>Implementation of stream algebra over class in...</td>\n",
       "    </tr>\n",
       "    <tr>\n",
       "      <th>3</th>\n",
       "      <td>US-7693817-B2</td>\n",
       "      <td>0</td>\n",
       "      <td>Sensing, storing, indexing, and retrieving dat...</td>\n",
       "    </tr>\n",
       "    <tr>\n",
       "      <th>4</th>\n",
       "      <td>US-7661088-B2</td>\n",
       "      <td>0</td>\n",
       "      <td>Systems and methods to efficiently and automat...</td>\n",
       "    </tr>\n",
       "  </tbody>\n",
       "</table>\n",
       "</div>"
      ],
      "text/plain": [
       "  publication_number  Label                                               text\n",
       "0      US-8375302-B2      0  Example based video editing Enabling creation ...\n",
       "1      US-7644414-B2      0  Application program interface for network soft...\n",
       "2      US-7676461-B2      0  Implementation of stream algebra over class in...\n",
       "3      US-7693817-B2      0  Sensing, storing, indexing, and retrieving dat...\n",
       "4      US-7661088-B2      0  Systems and methods to efficiently and automat..."
      ]
     },
     "execution_count": 10,
     "metadata": {},
     "output_type": "execute_result"
    }
   ],
   "source": [
    "df_training_set_finished.head()"
   ]
  },
  {
   "cell_type": "markdown",
   "metadata": {},
   "source": [
    "#### 4.2 | Data Used for Clustering Cities"
   ]
  },
  {
   "cell_type": "code",
   "execution_count": 11,
   "metadata": {},
   "outputs": [
    {
     "name": "stdout",
     "output_type": "stream",
     "text": [
      "<class 'pandas.core.frame.DataFrame'>\n",
      "RangeIndex: 4157 entries, 0 to 4156\n",
      "Columns: 171 entries, id to A23C\n",
      "dtypes: float64(1), int64(167), object(3)\n",
      "memory usage: 5.4+ MB\n"
     ]
    }
   ],
   "source": [
    "df_clustering_raw.info()"
   ]
  },
  {
   "cell_type": "code",
   "execution_count": 12,
   "metadata": {},
   "outputs": [
    {
     "data": {
      "text/html": [
       "<div>\n",
       "<style scoped>\n",
       "    .dataframe tbody tr th:only-of-type {\n",
       "        vertical-align: middle;\n",
       "    }\n",
       "\n",
       "    .dataframe tbody tr th {\n",
       "        vertical-align: top;\n",
       "    }\n",
       "\n",
       "    .dataframe thead th {\n",
       "        text-align: right;\n",
       "    }\n",
       "</style>\n",
       "<table border=\"1\" class=\"dataframe\">\n",
       "  <thead>\n",
       "    <tr style=\"text-align: right;\">\n",
       "      <th></th>\n",
       "      <th>id</th>\n",
       "      <th>city</th>\n",
       "      <th>country/province/city</th>\n",
       "      <th>IPC</th>\n",
       "      <th>A61K</th>\n",
       "      <th>A61P</th>\n",
       "      <th>C07H</th>\n",
       "      <th>C07F</th>\n",
       "      <th>C07D</th>\n",
       "      <th>C07C</th>\n",
       "      <th>...</th>\n",
       "      <th>H02M</th>\n",
       "      <th>F17C</th>\n",
       "      <th>H01B</th>\n",
       "      <th>G01G</th>\n",
       "      <th>H05B</th>\n",
       "      <th>C08K</th>\n",
       "      <th>C08G</th>\n",
       "      <th>C09K</th>\n",
       "      <th>C09J</th>\n",
       "      <th>A23C</th>\n",
       "    </tr>\n",
       "  </thead>\n",
       "  <tbody>\n",
       "    <tr>\n",
       "      <th>0</th>\n",
       "      <td>1.0</td>\n",
       "      <td>California</td>\n",
       "      <td>US</td>\n",
       "      <td>C07D309/10;C07H19/00</td>\n",
       "      <td>0</td>\n",
       "      <td>0</td>\n",
       "      <td>1</td>\n",
       "      <td>0</td>\n",
       "      <td>1</td>\n",
       "      <td>0</td>\n",
       "      <td>...</td>\n",
       "      <td>0</td>\n",
       "      <td>0</td>\n",
       "      <td>0</td>\n",
       "      <td>0</td>\n",
       "      <td>0</td>\n",
       "      <td>0</td>\n",
       "      <td>0</td>\n",
       "      <td>0</td>\n",
       "      <td>0</td>\n",
       "      <td>0</td>\n",
       "    </tr>\n",
       "    <tr>\n",
       "      <th>1</th>\n",
       "      <td>2.0</td>\n",
       "      <td>California</td>\n",
       "      <td>US</td>\n",
       "      <td>A61K31/53;A61K31/675;A61P31/14;A61P31/16;C07D4...</td>\n",
       "      <td>1</td>\n",
       "      <td>1</td>\n",
       "      <td>0</td>\n",
       "      <td>1</td>\n",
       "      <td>1</td>\n",
       "      <td>0</td>\n",
       "      <td>...</td>\n",
       "      <td>0</td>\n",
       "      <td>0</td>\n",
       "      <td>0</td>\n",
       "      <td>0</td>\n",
       "      <td>0</td>\n",
       "      <td>0</td>\n",
       "      <td>0</td>\n",
       "      <td>0</td>\n",
       "      <td>0</td>\n",
       "      <td>0</td>\n",
       "    </tr>\n",
       "    <tr>\n",
       "      <th>2</th>\n",
       "      <td>3.0</td>\n",
       "      <td>California</td>\n",
       "      <td>US</td>\n",
       "      <td>A61K31/53;A61K31/664;A61K31/683;A61K31/675;A61...</td>\n",
       "      <td>1</td>\n",
       "      <td>1</td>\n",
       "      <td>0</td>\n",
       "      <td>0</td>\n",
       "      <td>0</td>\n",
       "      <td>0</td>\n",
       "      <td>...</td>\n",
       "      <td>0</td>\n",
       "      <td>0</td>\n",
       "      <td>0</td>\n",
       "      <td>0</td>\n",
       "      <td>0</td>\n",
       "      <td>0</td>\n",
       "      <td>0</td>\n",
       "      <td>0</td>\n",
       "      <td>0</td>\n",
       "      <td>0</td>\n",
       "    </tr>\n",
       "    <tr>\n",
       "      <th>3</th>\n",
       "      <td>4.0</td>\n",
       "      <td>California</td>\n",
       "      <td>US</td>\n",
       "      <td>A61K31/53;A61K31/675;A61K31/685;C07F9/6561;C07...</td>\n",
       "      <td>1</td>\n",
       "      <td>1</td>\n",
       "      <td>0</td>\n",
       "      <td>1</td>\n",
       "      <td>1</td>\n",
       "      <td>0</td>\n",
       "      <td>...</td>\n",
       "      <td>0</td>\n",
       "      <td>0</td>\n",
       "      <td>0</td>\n",
       "      <td>0</td>\n",
       "      <td>0</td>\n",
       "      <td>0</td>\n",
       "      <td>0</td>\n",
       "      <td>0</td>\n",
       "      <td>0</td>\n",
       "      <td>0</td>\n",
       "    </tr>\n",
       "    <tr>\n",
       "      <th>4</th>\n",
       "      <td>5.0</td>\n",
       "      <td>California</td>\n",
       "      <td>US</td>\n",
       "      <td>C07H19/073;C07H19/06;C07H19/10;A61K31/7072;A61...</td>\n",
       "      <td>1</td>\n",
       "      <td>1</td>\n",
       "      <td>1</td>\n",
       "      <td>0</td>\n",
       "      <td>0</td>\n",
       "      <td>0</td>\n",
       "      <td>...</td>\n",
       "      <td>0</td>\n",
       "      <td>0</td>\n",
       "      <td>0</td>\n",
       "      <td>0</td>\n",
       "      <td>0</td>\n",
       "      <td>0</td>\n",
       "      <td>0</td>\n",
       "      <td>0</td>\n",
       "      <td>0</td>\n",
       "      <td>0</td>\n",
       "    </tr>\n",
       "  </tbody>\n",
       "</table>\n",
       "<p>5 rows × 171 columns</p>\n",
       "</div>"
      ],
      "text/plain": [
       "    id        city country/province/city  \\\n",
       "0  1.0  California                    US   \n",
       "1  2.0  California                    US   \n",
       "2  3.0  California                    US   \n",
       "3  4.0  California                    US   \n",
       "4  5.0  California                    US   \n",
       "\n",
       "                                                 IPC  A61K  A61P  C07H  C07F  \\\n",
       "0                               C07D309/10;C07H19/00     0     0     1     0   \n",
       "1  A61K31/53;A61K31/675;A61P31/14;A61P31/16;C07D4...     1     1     0     1   \n",
       "2  A61K31/53;A61K31/664;A61K31/683;A61K31/675;A61...     1     1     0     0   \n",
       "3  A61K31/53;A61K31/675;A61K31/685;C07F9/6561;C07...     1     1     0     1   \n",
       "4  C07H19/073;C07H19/06;C07H19/10;A61K31/7072;A61...     1     1     1     0   \n",
       "\n",
       "   C07D  C07C  ...  H02M  F17C  H01B  G01G  H05B  C08K  C08G  C09K  C09J  A23C  \n",
       "0     1     0  ...     0     0     0     0     0     0     0     0     0     0  \n",
       "1     1     0  ...     0     0     0     0     0     0     0     0     0     0  \n",
       "2     0     0  ...     0     0     0     0     0     0     0     0     0     0  \n",
       "3     1     0  ...     0     0     0     0     0     0     0     0     0     0  \n",
       "4     0     0  ...     0     0     0     0     0     0     0     0     0     0  \n",
       "\n",
       "[5 rows x 171 columns]"
      ]
     },
     "execution_count": 12,
     "metadata": {},
     "output_type": "execute_result"
    }
   ],
   "source": [
    "df_clustering_raw.head()"
   ]
  },
  {
   "cell_type": "markdown",
   "metadata": {},
   "source": [
    "##### **Shape** \n",
    "- an inconsistency appears at the end rows of this dataset.\n",
    "- some cities/provinces not in China appear in the dataset, such as California."
   ]
  },
  {
   "cell_type": "code",
   "execution_count": 13,
   "metadata": {},
   "outputs": [],
   "source": [
    "df_clustering_raw=df_clustering_raw[:-2]"
   ]
  },
  {
   "cell_type": "code",
   "execution_count": 14,
   "metadata": {},
   "outputs": [
    {
     "data": {
      "text/plain": [
       "0              US\n",
       "1              US\n",
       "2              US\n",
       "3              US\n",
       "4              US\n",
       "          ...    \n",
       "4150     Shanghai\n",
       "4151    Chongqing\n",
       "4152      Jiangsu\n",
       "4153     Shanghai\n",
       "4154     Shanghai\n",
       "Name: country/province/city, Length: 4155, dtype: object"
      ]
     },
     "execution_count": 14,
     "metadata": {},
     "output_type": "execute_result"
    }
   ],
   "source": [
    "df_clustering_raw['country/province/city'] # We could notice that the dataset also contains patents that non-China enterprises own."
   ]
  },
  {
   "cell_type": "markdown",
   "metadata": {},
   "source": [
    "**Here, we notice that the other countries' names are 2-digits abbreviations. We could use this trait to define the cities belong to other countries.**"
   ]
  },
  {
   "cell_type": "code",
   "execution_count": 15,
   "metadata": {},
   "outputs": [
    {
     "name": "stdout",
     "output_type": "stream",
     "text": [
      "df_clustering now contains 3466 rows.\n"
     ]
    }
   ],
   "source": [
    "countrycity_len=pd.DataFrame()\n",
    "\n",
    "# Calculate the number of characters of cities' name.\n",
    "countrycity_len['count'] = df_clustering_raw['country/province/city'].str.len()\n",
    "\n",
    "# Combine the length of cities/countries data with clustering raw data\n",
    "df_clustering=pd.concat([df_clustering_raw, countrycity_len], axis=1)\n",
    "\n",
    "df_clustering.drop(df_clustering[df_clustering['count'] == 2].index.values, axis=0, inplace= True)\n",
    "print(f\"df_clustering now contains {df_clustering.shape[0]} rows.\")\n",
    "\n",
    "df_clustering=df_clustering.reset_index()"
   ]
  },
  {
   "cell_type": "code",
   "execution_count": 16,
   "metadata": {},
   "outputs": [
    {
     "data": {
      "text/html": [
       "<div>\n",
       "<style scoped>\n",
       "    .dataframe tbody tr th:only-of-type {\n",
       "        vertical-align: middle;\n",
       "    }\n",
       "\n",
       "    .dataframe tbody tr th {\n",
       "        vertical-align: top;\n",
       "    }\n",
       "\n",
       "    .dataframe thead th {\n",
       "        text-align: right;\n",
       "    }\n",
       "</style>\n",
       "<table border=\"1\" class=\"dataframe\">\n",
       "  <thead>\n",
       "    <tr style=\"text-align: right;\">\n",
       "      <th></th>\n",
       "      <th>index</th>\n",
       "      <th>id</th>\n",
       "      <th>city</th>\n",
       "      <th>country/province/city</th>\n",
       "      <th>IPC</th>\n",
       "      <th>A61K</th>\n",
       "      <th>A61P</th>\n",
       "      <th>C07H</th>\n",
       "      <th>C07F</th>\n",
       "      <th>C07D</th>\n",
       "      <th>...</th>\n",
       "      <th>F17C</th>\n",
       "      <th>H01B</th>\n",
       "      <th>G01G</th>\n",
       "      <th>H05B</th>\n",
       "      <th>C08K</th>\n",
       "      <th>C08G</th>\n",
       "      <th>C09K</th>\n",
       "      <th>C09J</th>\n",
       "      <th>A23C</th>\n",
       "      <th>count</th>\n",
       "    </tr>\n",
       "  </thead>\n",
       "  <tbody>\n",
       "    <tr>\n",
       "      <th>0</th>\n",
       "      <td>11</td>\n",
       "      <td>12.0</td>\n",
       "      <td>Beijing</td>\n",
       "      <td>Beijing</td>\n",
       "      <td>A61K31/715;A61K31/7024;A61K31/353;A61P31/12</td>\n",
       "      <td>1</td>\n",
       "      <td>1</td>\n",
       "      <td>0</td>\n",
       "      <td>0</td>\n",
       "      <td>0</td>\n",
       "      <td>...</td>\n",
       "      <td>0</td>\n",
       "      <td>0</td>\n",
       "      <td>0</td>\n",
       "      <td>0</td>\n",
       "      <td>0</td>\n",
       "      <td>0</td>\n",
       "      <td>0</td>\n",
       "      <td>0</td>\n",
       "      <td>0</td>\n",
       "      <td>7</td>\n",
       "    </tr>\n",
       "    <tr>\n",
       "      <th>1</th>\n",
       "      <td>20</td>\n",
       "      <td>21.0</td>\n",
       "      <td>Suzhou</td>\n",
       "      <td>Jiangsu</td>\n",
       "      <td>A61K31/4045;A61K9/08;A61P31/16;C07D209/42</td>\n",
       "      <td>1</td>\n",
       "      <td>1</td>\n",
       "      <td>0</td>\n",
       "      <td>0</td>\n",
       "      <td>1</td>\n",
       "      <td>...</td>\n",
       "      <td>0</td>\n",
       "      <td>0</td>\n",
       "      <td>0</td>\n",
       "      <td>0</td>\n",
       "      <td>0</td>\n",
       "      <td>0</td>\n",
       "      <td>0</td>\n",
       "      <td>0</td>\n",
       "      <td>0</td>\n",
       "      <td>7</td>\n",
       "    </tr>\n",
       "    <tr>\n",
       "      <th>2</th>\n",
       "      <td>21</td>\n",
       "      <td>22.0</td>\n",
       "      <td>Suzhou</td>\n",
       "      <td>Jiangsu</td>\n",
       "      <td>C07D207/22;A61K31/4045;A61P39/00</td>\n",
       "      <td>1</td>\n",
       "      <td>1</td>\n",
       "      <td>0</td>\n",
       "      <td>0</td>\n",
       "      <td>1</td>\n",
       "      <td>...</td>\n",
       "      <td>0</td>\n",
       "      <td>0</td>\n",
       "      <td>0</td>\n",
       "      <td>0</td>\n",
       "      <td>0</td>\n",
       "      <td>0</td>\n",
       "      <td>0</td>\n",
       "      <td>0</td>\n",
       "      <td>0</td>\n",
       "      <td>7</td>\n",
       "    </tr>\n",
       "    <tr>\n",
       "      <th>3</th>\n",
       "      <td>22</td>\n",
       "      <td>23.0</td>\n",
       "      <td>Shijiazhuang</td>\n",
       "      <td>Hebei</td>\n",
       "      <td>A61K31/405;A61P31/14;A61P11/00</td>\n",
       "      <td>1</td>\n",
       "      <td>1</td>\n",
       "      <td>0</td>\n",
       "      <td>0</td>\n",
       "      <td>0</td>\n",
       "      <td>...</td>\n",
       "      <td>0</td>\n",
       "      <td>0</td>\n",
       "      <td>0</td>\n",
       "      <td>0</td>\n",
       "      <td>0</td>\n",
       "      <td>0</td>\n",
       "      <td>0</td>\n",
       "      <td>0</td>\n",
       "      <td>0</td>\n",
       "      <td>5</td>\n",
       "    </tr>\n",
       "    <tr>\n",
       "      <th>4</th>\n",
       "      <td>23</td>\n",
       "      <td>24.0</td>\n",
       "      <td>Shijiazhuang</td>\n",
       "      <td>Hebei</td>\n",
       "      <td>A61K31/405;A61P31/12;A61P31/18</td>\n",
       "      <td>1</td>\n",
       "      <td>1</td>\n",
       "      <td>0</td>\n",
       "      <td>0</td>\n",
       "      <td>0</td>\n",
       "      <td>...</td>\n",
       "      <td>0</td>\n",
       "      <td>0</td>\n",
       "      <td>0</td>\n",
       "      <td>0</td>\n",
       "      <td>0</td>\n",
       "      <td>0</td>\n",
       "      <td>0</td>\n",
       "      <td>0</td>\n",
       "      <td>0</td>\n",
       "      <td>5</td>\n",
       "    </tr>\n",
       "  </tbody>\n",
       "</table>\n",
       "<p>5 rows × 173 columns</p>\n",
       "</div>"
      ],
      "text/plain": [
       "   index    id          city country/province/city  \\\n",
       "0     11  12.0       Beijing               Beijing   \n",
       "1     20  21.0        Suzhou               Jiangsu   \n",
       "2     21  22.0        Suzhou               Jiangsu   \n",
       "3     22  23.0  Shijiazhuang                 Hebei   \n",
       "4     23  24.0  Shijiazhuang                 Hebei   \n",
       "\n",
       "                                           IPC  A61K  A61P  C07H  C07F  C07D  \\\n",
       "0  A61K31/715;A61K31/7024;A61K31/353;A61P31/12     1     1     0     0     0   \n",
       "1    A61K31/4045;A61K9/08;A61P31/16;C07D209/42     1     1     0     0     1   \n",
       "2             C07D207/22;A61K31/4045;A61P39/00     1     1     0     0     1   \n",
       "3               A61K31/405;A61P31/14;A61P11/00     1     1     0     0     0   \n",
       "4               A61K31/405;A61P31/12;A61P31/18     1     1     0     0     0   \n",
       "\n",
       "   ...  F17C  H01B  G01G  H05B  C08K  C08G  C09K  C09J  A23C  count  \n",
       "0  ...     0     0     0     0     0     0     0     0     0      7  \n",
       "1  ...     0     0     0     0     0     0     0     0     0      7  \n",
       "2  ...     0     0     0     0     0     0     0     0     0      7  \n",
       "3  ...     0     0     0     0     0     0     0     0     0      5  \n",
       "4  ...     0     0     0     0     0     0     0     0     0      5  \n",
       "\n",
       "[5 rows x 173 columns]"
      ]
     },
     "execution_count": 16,
     "metadata": {},
     "output_type": "execute_result"
    }
   ],
   "source": [
    "df_clustering.head()"
   ]
  },
  {
   "cell_type": "markdown",
   "metadata": {},
   "source": [
    "##### **Columns**\n",
    "\n",
    "The **IPC, index, id, count** columns are not what we want in the below analysing."
   ]
  },
  {
   "cell_type": "code",
   "execution_count": 17,
   "metadata": {},
   "outputs": [
    {
     "data": {
      "text/plain": [
       "Index(['index', 'id', 'city', 'country/province/city', 'IPC', 'A61K', 'A61P',\n",
       "       'C07H', 'C07F', 'C07D',\n",
       "       ...\n",
       "       'F17C', 'H01B', 'G01G', 'H05B', 'C08K', 'C08G', 'C09K', 'C09J', 'A23C',\n",
       "       'count'],\n",
       "      dtype='object', length=173)"
      ]
     },
     "execution_count": 17,
     "metadata": {},
     "output_type": "execute_result"
    }
   ],
   "source": [
    "df_clustering.columns"
   ]
  },
  {
   "cell_type": "code",
   "execution_count": 18,
   "metadata": {},
   "outputs": [
    {
     "data": {
      "text/html": [
       "<div>\n",
       "<style scoped>\n",
       "    .dataframe tbody tr th:only-of-type {\n",
       "        vertical-align: middle;\n",
       "    }\n",
       "\n",
       "    .dataframe tbody tr th {\n",
       "        vertical-align: top;\n",
       "    }\n",
       "\n",
       "    .dataframe thead th {\n",
       "        text-align: right;\n",
       "    }\n",
       "</style>\n",
       "<table border=\"1\" class=\"dataframe\">\n",
       "  <thead>\n",
       "    <tr style=\"text-align: right;\">\n",
       "      <th></th>\n",
       "      <th>city</th>\n",
       "      <th>A61K</th>\n",
       "      <th>A61P</th>\n",
       "      <th>C07H</th>\n",
       "      <th>C07F</th>\n",
       "      <th>C07D</th>\n",
       "      <th>C07C</th>\n",
       "      <th>C07K</th>\n",
       "      <th>C07B</th>\n",
       "      <th>C12Q</th>\n",
       "      <th>...</th>\n",
       "      <th>H02M</th>\n",
       "      <th>F17C</th>\n",
       "      <th>H01B</th>\n",
       "      <th>G01G</th>\n",
       "      <th>H05B</th>\n",
       "      <th>C08K</th>\n",
       "      <th>C08G</th>\n",
       "      <th>C09K</th>\n",
       "      <th>C09J</th>\n",
       "      <th>A23C</th>\n",
       "    </tr>\n",
       "  </thead>\n",
       "  <tbody>\n",
       "    <tr>\n",
       "      <th>0</th>\n",
       "      <td>Beijing</td>\n",
       "      <td>1</td>\n",
       "      <td>1</td>\n",
       "      <td>0</td>\n",
       "      <td>0</td>\n",
       "      <td>0</td>\n",
       "      <td>0</td>\n",
       "      <td>0</td>\n",
       "      <td>0</td>\n",
       "      <td>0</td>\n",
       "      <td>...</td>\n",
       "      <td>0</td>\n",
       "      <td>0</td>\n",
       "      <td>0</td>\n",
       "      <td>0</td>\n",
       "      <td>0</td>\n",
       "      <td>0</td>\n",
       "      <td>0</td>\n",
       "      <td>0</td>\n",
       "      <td>0</td>\n",
       "      <td>0</td>\n",
       "    </tr>\n",
       "    <tr>\n",
       "      <th>1</th>\n",
       "      <td>Suzhou</td>\n",
       "      <td>1</td>\n",
       "      <td>1</td>\n",
       "      <td>0</td>\n",
       "      <td>0</td>\n",
       "      <td>1</td>\n",
       "      <td>0</td>\n",
       "      <td>0</td>\n",
       "      <td>0</td>\n",
       "      <td>0</td>\n",
       "      <td>...</td>\n",
       "      <td>0</td>\n",
       "      <td>0</td>\n",
       "      <td>0</td>\n",
       "      <td>0</td>\n",
       "      <td>0</td>\n",
       "      <td>0</td>\n",
       "      <td>0</td>\n",
       "      <td>0</td>\n",
       "      <td>0</td>\n",
       "      <td>0</td>\n",
       "    </tr>\n",
       "    <tr>\n",
       "      <th>2</th>\n",
       "      <td>Suzhou</td>\n",
       "      <td>1</td>\n",
       "      <td>1</td>\n",
       "      <td>0</td>\n",
       "      <td>0</td>\n",
       "      <td>1</td>\n",
       "      <td>0</td>\n",
       "      <td>0</td>\n",
       "      <td>0</td>\n",
       "      <td>0</td>\n",
       "      <td>...</td>\n",
       "      <td>0</td>\n",
       "      <td>0</td>\n",
       "      <td>0</td>\n",
       "      <td>0</td>\n",
       "      <td>0</td>\n",
       "      <td>0</td>\n",
       "      <td>0</td>\n",
       "      <td>0</td>\n",
       "      <td>0</td>\n",
       "      <td>0</td>\n",
       "    </tr>\n",
       "    <tr>\n",
       "      <th>3</th>\n",
       "      <td>Shijiazhuang</td>\n",
       "      <td>1</td>\n",
       "      <td>1</td>\n",
       "      <td>0</td>\n",
       "      <td>0</td>\n",
       "      <td>0</td>\n",
       "      <td>0</td>\n",
       "      <td>0</td>\n",
       "      <td>0</td>\n",
       "      <td>0</td>\n",
       "      <td>...</td>\n",
       "      <td>0</td>\n",
       "      <td>0</td>\n",
       "      <td>0</td>\n",
       "      <td>0</td>\n",
       "      <td>0</td>\n",
       "      <td>0</td>\n",
       "      <td>0</td>\n",
       "      <td>0</td>\n",
       "      <td>0</td>\n",
       "      <td>0</td>\n",
       "    </tr>\n",
       "    <tr>\n",
       "      <th>4</th>\n",
       "      <td>Shijiazhuang</td>\n",
       "      <td>1</td>\n",
       "      <td>1</td>\n",
       "      <td>0</td>\n",
       "      <td>0</td>\n",
       "      <td>0</td>\n",
       "      <td>0</td>\n",
       "      <td>0</td>\n",
       "      <td>0</td>\n",
       "      <td>0</td>\n",
       "      <td>...</td>\n",
       "      <td>0</td>\n",
       "      <td>0</td>\n",
       "      <td>0</td>\n",
       "      <td>0</td>\n",
       "      <td>0</td>\n",
       "      <td>0</td>\n",
       "      <td>0</td>\n",
       "      <td>0</td>\n",
       "      <td>0</td>\n",
       "      <td>0</td>\n",
       "    </tr>\n",
       "  </tbody>\n",
       "</table>\n",
       "<p>5 rows × 168 columns</p>\n",
       "</div>"
      ],
      "text/plain": [
       "           city  A61K  A61P  C07H  C07F  C07D  C07C  C07K  C07B  C12Q  ...  \\\n",
       "0       Beijing     1     1     0     0     0     0     0     0     0  ...   \n",
       "1        Suzhou     1     1     0     0     1     0     0     0     0  ...   \n",
       "2        Suzhou     1     1     0     0     1     0     0     0     0  ...   \n",
       "3  Shijiazhuang     1     1     0     0     0     0     0     0     0  ...   \n",
       "4  Shijiazhuang     1     1     0     0     0     0     0     0     0  ...   \n",
       "\n",
       "   H02M  F17C  H01B  G01G  H05B  C08K  C08G  C09K  C09J  A23C  \n",
       "0     0     0     0     0     0     0     0     0     0     0  \n",
       "1     0     0     0     0     0     0     0     0     0     0  \n",
       "2     0     0     0     0     0     0     0     0     0     0  \n",
       "3     0     0     0     0     0     0     0     0     0     0  \n",
       "4     0     0     0     0     0     0     0     0     0     0  \n",
       "\n",
       "[5 rows x 168 columns]"
      ]
     },
     "execution_count": 18,
     "metadata": {},
     "output_type": "execute_result"
    }
   ],
   "source": [
    "# Drop the columns we don't need in this analysis.\n",
    "drop_col=['IPC','index','id','count']\n",
    "\n",
    "for index, entry in enumerate(drop_col):\n",
    "    df_clustering=df_clustering.drop(drop_col[index], axis=1)\n",
    "\n",
    "# Classify the dataset by droping different spatial level.\n",
    "df_clustering_city_raw=df_clustering.drop('country/province/city', axis=1)\n",
    "df_clustering_province_raw=df_clustering.drop('city', axis=1)\n",
    "\n",
    "df_clustering_city_raw.head()"
   ]
  },
  {
   "cell_type": "markdown",
   "metadata": {},
   "source": [
    "**The dataset used for clustering still contains the duplicated cities. Because the dataset is still about the records of patents. Next step, we need to group them to city or province level.**"
   ]
  },
  {
   "cell_type": "markdown",
   "metadata": {},
   "source": [
    "***"
   ]
  },
  {
   "cell_type": "markdown",
   "metadata": {},
   "source": [
    "## 5.0 | Data Preprocessing and Descriptive Statistics"
   ]
  },
  {
   "cell_type": "markdown",
   "metadata": {},
   "source": [
    "This paper focuses on cluster cities based on the categories of technologies they owned. The total number of technologies will not be used. \n",
    "\n",
    "Also, the number of patents registered in each city or province could reflect the level of knowledge reserves. And it is shown in the below histogram graph (5.2 section)."
   ]
  },
  {
   "cell_type": "markdown",
   "metadata": {},
   "source": [
    "#### 5.1 | Group the data"
   ]
  },
  {
   "cell_type": "code",
   "execution_count": 19,
   "metadata": {},
   "outputs": [],
   "source": [
    "def clusterdatapreparation(data,col):\n",
    "    data=data.groupby(by = col).sum()\n",
    "    data[data > 0] = 1 # All the data will be transformed to zero or one to interpret whether the city contains the technologies in these IPC categories (A61K，for example) or not.\n",
    "    return data"
   ]
  },
  {
   "cell_type": "code",
   "execution_count": 20,
   "metadata": {},
   "outputs": [],
   "source": [
    "df_clustering_city=clusterdatapreparation(df_clustering_city_raw,\"city\")\n",
    "df_clustering_province=clusterdatapreparation(df_clustering_province_raw,\"country/province/city\")"
   ]
  },
  {
   "cell_type": "code",
   "execution_count": 21,
   "metadata": {},
   "outputs": [
    {
     "data": {
      "text/html": [
       "<div>\n",
       "<style scoped>\n",
       "    .dataframe tbody tr th:only-of-type {\n",
       "        vertical-align: middle;\n",
       "    }\n",
       "\n",
       "    .dataframe tbody tr th {\n",
       "        vertical-align: top;\n",
       "    }\n",
       "\n",
       "    .dataframe thead th {\n",
       "        text-align: right;\n",
       "    }\n",
       "</style>\n",
       "<table border=\"1\" class=\"dataframe\">\n",
       "  <thead>\n",
       "    <tr style=\"text-align: right;\">\n",
       "      <th></th>\n",
       "      <th>A61K</th>\n",
       "      <th>A61P</th>\n",
       "      <th>C07H</th>\n",
       "      <th>C07F</th>\n",
       "      <th>C07D</th>\n",
       "      <th>C07C</th>\n",
       "      <th>C07K</th>\n",
       "      <th>C07B</th>\n",
       "      <th>C12Q</th>\n",
       "      <th>A61Q</th>\n",
       "      <th>...</th>\n",
       "      <th>H02M</th>\n",
       "      <th>F17C</th>\n",
       "      <th>H01B</th>\n",
       "      <th>G01G</th>\n",
       "      <th>H05B</th>\n",
       "      <th>C08K</th>\n",
       "      <th>C08G</th>\n",
       "      <th>C09K</th>\n",
       "      <th>C09J</th>\n",
       "      <th>A23C</th>\n",
       "    </tr>\n",
       "    <tr>\n",
       "      <th>city</th>\n",
       "      <th></th>\n",
       "      <th></th>\n",
       "      <th></th>\n",
       "      <th></th>\n",
       "      <th></th>\n",
       "      <th></th>\n",
       "      <th></th>\n",
       "      <th></th>\n",
       "      <th></th>\n",
       "      <th></th>\n",
       "      <th></th>\n",
       "      <th></th>\n",
       "      <th></th>\n",
       "      <th></th>\n",
       "      <th></th>\n",
       "      <th></th>\n",
       "      <th></th>\n",
       "      <th></th>\n",
       "      <th></th>\n",
       "      <th></th>\n",
       "      <th></th>\n",
       "    </tr>\n",
       "  </thead>\n",
       "  <tbody>\n",
       "    <tr>\n",
       "      <th>Aba</th>\n",
       "      <td>1</td>\n",
       "      <td>1</td>\n",
       "      <td>0</td>\n",
       "      <td>0</td>\n",
       "      <td>0</td>\n",
       "      <td>0</td>\n",
       "      <td>0</td>\n",
       "      <td>0</td>\n",
       "      <td>0</td>\n",
       "      <td>0</td>\n",
       "      <td>...</td>\n",
       "      <td>0</td>\n",
       "      <td>0</td>\n",
       "      <td>0</td>\n",
       "      <td>0</td>\n",
       "      <td>0</td>\n",
       "      <td>0</td>\n",
       "      <td>0</td>\n",
       "      <td>0</td>\n",
       "      <td>0</td>\n",
       "      <td>0</td>\n",
       "    </tr>\n",
       "    <tr>\n",
       "      <th>Akesu</th>\n",
       "      <td>0</td>\n",
       "      <td>0</td>\n",
       "      <td>0</td>\n",
       "      <td>0</td>\n",
       "      <td>0</td>\n",
       "      <td>0</td>\n",
       "      <td>0</td>\n",
       "      <td>0</td>\n",
       "      <td>0</td>\n",
       "      <td>0</td>\n",
       "      <td>...</td>\n",
       "      <td>0</td>\n",
       "      <td>0</td>\n",
       "      <td>0</td>\n",
       "      <td>0</td>\n",
       "      <td>0</td>\n",
       "      <td>0</td>\n",
       "      <td>0</td>\n",
       "      <td>0</td>\n",
       "      <td>0</td>\n",
       "      <td>0</td>\n",
       "    </tr>\n",
       "    <tr>\n",
       "      <th>Anguo</th>\n",
       "      <td>1</td>\n",
       "      <td>1</td>\n",
       "      <td>0</td>\n",
       "      <td>0</td>\n",
       "      <td>0</td>\n",
       "      <td>0</td>\n",
       "      <td>0</td>\n",
       "      <td>0</td>\n",
       "      <td>0</td>\n",
       "      <td>0</td>\n",
       "      <td>...</td>\n",
       "      <td>0</td>\n",
       "      <td>0</td>\n",
       "      <td>0</td>\n",
       "      <td>0</td>\n",
       "      <td>0</td>\n",
       "      <td>0</td>\n",
       "      <td>0</td>\n",
       "      <td>0</td>\n",
       "      <td>0</td>\n",
       "      <td>0</td>\n",
       "    </tr>\n",
       "    <tr>\n",
       "      <th>Ankang</th>\n",
       "      <td>1</td>\n",
       "      <td>1</td>\n",
       "      <td>0</td>\n",
       "      <td>0</td>\n",
       "      <td>0</td>\n",
       "      <td>0</td>\n",
       "      <td>0</td>\n",
       "      <td>0</td>\n",
       "      <td>0</td>\n",
       "      <td>0</td>\n",
       "      <td>...</td>\n",
       "      <td>0</td>\n",
       "      <td>0</td>\n",
       "      <td>0</td>\n",
       "      <td>0</td>\n",
       "      <td>0</td>\n",
       "      <td>0</td>\n",
       "      <td>0</td>\n",
       "      <td>0</td>\n",
       "      <td>0</td>\n",
       "      <td>0</td>\n",
       "    </tr>\n",
       "    <tr>\n",
       "      <th>Anshan</th>\n",
       "      <td>0</td>\n",
       "      <td>0</td>\n",
       "      <td>0</td>\n",
       "      <td>0</td>\n",
       "      <td>0</td>\n",
       "      <td>0</td>\n",
       "      <td>0</td>\n",
       "      <td>0</td>\n",
       "      <td>0</td>\n",
       "      <td>0</td>\n",
       "      <td>...</td>\n",
       "      <td>0</td>\n",
       "      <td>0</td>\n",
       "      <td>0</td>\n",
       "      <td>0</td>\n",
       "      <td>0</td>\n",
       "      <td>0</td>\n",
       "      <td>0</td>\n",
       "      <td>0</td>\n",
       "      <td>0</td>\n",
       "      <td>0</td>\n",
       "    </tr>\n",
       "  </tbody>\n",
       "</table>\n",
       "<p>5 rows × 167 columns</p>\n",
       "</div>"
      ],
      "text/plain": [
       "        A61K  A61P  C07H  C07F  C07D  C07C  C07K  C07B  C12Q  A61Q  ...  H02M  \\\n",
       "city                                                                ...         \n",
       "Aba        1     1     0     0     0     0     0     0     0     0  ...     0   \n",
       "Akesu      0     0     0     0     0     0     0     0     0     0  ...     0   \n",
       "Anguo      1     1     0     0     0     0     0     0     0     0  ...     0   \n",
       "Ankang     1     1     0     0     0     0     0     0     0     0  ...     0   \n",
       "Anshan     0     0     0     0     0     0     0     0     0     0  ...     0   \n",
       "\n",
       "        F17C  H01B  G01G  H05B  C08K  C08G  C09K  C09J  A23C  \n",
       "city                                                          \n",
       "Aba        0     0     0     0     0     0     0     0     0  \n",
       "Akesu      0     0     0     0     0     0     0     0     0  \n",
       "Anguo      0     0     0     0     0     0     0     0     0  \n",
       "Ankang     0     0     0     0     0     0     0     0     0  \n",
       "Anshan     0     0     0     0     0     0     0     0     0  \n",
       "\n",
       "[5 rows x 167 columns]"
      ]
     },
     "execution_count": 21,
     "metadata": {},
     "output_type": "execute_result"
    }
   ],
   "source": [
    "df_clustering_city.head()"
   ]
  },
  {
   "cell_type": "code",
   "execution_count": 22,
   "metadata": {},
   "outputs": [
    {
     "data": {
      "text/html": [
       "<div>\n",
       "<style scoped>\n",
       "    .dataframe tbody tr th:only-of-type {\n",
       "        vertical-align: middle;\n",
       "    }\n",
       "\n",
       "    .dataframe tbody tr th {\n",
       "        vertical-align: top;\n",
       "    }\n",
       "\n",
       "    .dataframe thead th {\n",
       "        text-align: right;\n",
       "    }\n",
       "</style>\n",
       "<table border=\"1\" class=\"dataframe\">\n",
       "  <thead>\n",
       "    <tr style=\"text-align: right;\">\n",
       "      <th></th>\n",
       "      <th>A61K</th>\n",
       "      <th>A61P</th>\n",
       "      <th>C07H</th>\n",
       "      <th>C07F</th>\n",
       "      <th>C07D</th>\n",
       "      <th>C07C</th>\n",
       "      <th>C07K</th>\n",
       "      <th>C07B</th>\n",
       "      <th>C12Q</th>\n",
       "      <th>A61Q</th>\n",
       "      <th>...</th>\n",
       "      <th>H02M</th>\n",
       "      <th>F17C</th>\n",
       "      <th>H01B</th>\n",
       "      <th>G01G</th>\n",
       "      <th>H05B</th>\n",
       "      <th>C08K</th>\n",
       "      <th>C08G</th>\n",
       "      <th>C09K</th>\n",
       "      <th>C09J</th>\n",
       "      <th>A23C</th>\n",
       "    </tr>\n",
       "    <tr>\n",
       "      <th>country/province/city</th>\n",
       "      <th></th>\n",
       "      <th></th>\n",
       "      <th></th>\n",
       "      <th></th>\n",
       "      <th></th>\n",
       "      <th></th>\n",
       "      <th></th>\n",
       "      <th></th>\n",
       "      <th></th>\n",
       "      <th></th>\n",
       "      <th></th>\n",
       "      <th></th>\n",
       "      <th></th>\n",
       "      <th></th>\n",
       "      <th></th>\n",
       "      <th></th>\n",
       "      <th></th>\n",
       "      <th></th>\n",
       "      <th></th>\n",
       "      <th></th>\n",
       "      <th></th>\n",
       "    </tr>\n",
       "  </thead>\n",
       "  <tbody>\n",
       "    <tr>\n",
       "      <th>Anhui</th>\n",
       "      <td>1</td>\n",
       "      <td>1</td>\n",
       "      <td>0</td>\n",
       "      <td>0</td>\n",
       "      <td>0</td>\n",
       "      <td>0</td>\n",
       "      <td>0</td>\n",
       "      <td>0</td>\n",
       "      <td>1</td>\n",
       "      <td>1</td>\n",
       "      <td>...</td>\n",
       "      <td>0</td>\n",
       "      <td>0</td>\n",
       "      <td>0</td>\n",
       "      <td>0</td>\n",
       "      <td>0</td>\n",
       "      <td>0</td>\n",
       "      <td>0</td>\n",
       "      <td>0</td>\n",
       "      <td>0</td>\n",
       "      <td>0</td>\n",
       "    </tr>\n",
       "    <tr>\n",
       "      <th>Beijing</th>\n",
       "      <td>1</td>\n",
       "      <td>1</td>\n",
       "      <td>1</td>\n",
       "      <td>0</td>\n",
       "      <td>1</td>\n",
       "      <td>1</td>\n",
       "      <td>1</td>\n",
       "      <td>0</td>\n",
       "      <td>1</td>\n",
       "      <td>0</td>\n",
       "      <td>...</td>\n",
       "      <td>0</td>\n",
       "      <td>0</td>\n",
       "      <td>0</td>\n",
       "      <td>0</td>\n",
       "      <td>0</td>\n",
       "      <td>0</td>\n",
       "      <td>0</td>\n",
       "      <td>0</td>\n",
       "      <td>0</td>\n",
       "      <td>0</td>\n",
       "    </tr>\n",
       "    <tr>\n",
       "      <th>Chongqing</th>\n",
       "      <td>1</td>\n",
       "      <td>1</td>\n",
       "      <td>0</td>\n",
       "      <td>0</td>\n",
       "      <td>1</td>\n",
       "      <td>1</td>\n",
       "      <td>1</td>\n",
       "      <td>0</td>\n",
       "      <td>1</td>\n",
       "      <td>0</td>\n",
       "      <td>...</td>\n",
       "      <td>0</td>\n",
       "      <td>0</td>\n",
       "      <td>0</td>\n",
       "      <td>0</td>\n",
       "      <td>0</td>\n",
       "      <td>0</td>\n",
       "      <td>0</td>\n",
       "      <td>0</td>\n",
       "      <td>0</td>\n",
       "      <td>0</td>\n",
       "    </tr>\n",
       "    <tr>\n",
       "      <th>Fujian</th>\n",
       "      <td>1</td>\n",
       "      <td>1</td>\n",
       "      <td>1</td>\n",
       "      <td>0</td>\n",
       "      <td>1</td>\n",
       "      <td>0</td>\n",
       "      <td>1</td>\n",
       "      <td>0</td>\n",
       "      <td>1</td>\n",
       "      <td>1</td>\n",
       "      <td>...</td>\n",
       "      <td>0</td>\n",
       "      <td>0</td>\n",
       "      <td>0</td>\n",
       "      <td>0</td>\n",
       "      <td>0</td>\n",
       "      <td>0</td>\n",
       "      <td>0</td>\n",
       "      <td>0</td>\n",
       "      <td>0</td>\n",
       "      <td>0</td>\n",
       "    </tr>\n",
       "    <tr>\n",
       "      <th>Gansu</th>\n",
       "      <td>1</td>\n",
       "      <td>1</td>\n",
       "      <td>0</td>\n",
       "      <td>0</td>\n",
       "      <td>0</td>\n",
       "      <td>0</td>\n",
       "      <td>0</td>\n",
       "      <td>0</td>\n",
       "      <td>1</td>\n",
       "      <td>0</td>\n",
       "      <td>...</td>\n",
       "      <td>0</td>\n",
       "      <td>0</td>\n",
       "      <td>0</td>\n",
       "      <td>0</td>\n",
       "      <td>0</td>\n",
       "      <td>0</td>\n",
       "      <td>0</td>\n",
       "      <td>0</td>\n",
       "      <td>0</td>\n",
       "      <td>0</td>\n",
       "    </tr>\n",
       "  </tbody>\n",
       "</table>\n",
       "<p>5 rows × 167 columns</p>\n",
       "</div>"
      ],
      "text/plain": [
       "                       A61K  A61P  C07H  C07F  C07D  C07C  C07K  C07B  C12Q  \\\n",
       "country/province/city                                                         \n",
       "Anhui                     1     1     0     0     0     0     0     0     1   \n",
       "Beijing                   1     1     1     0     1     1     1     0     1   \n",
       "Chongqing                 1     1     0     0     1     1     1     0     1   \n",
       "Fujian                    1     1     1     0     1     0     1     0     1   \n",
       "Gansu                     1     1     0     0     0     0     0     0     1   \n",
       "\n",
       "                       A61Q  ...  H02M  F17C  H01B  G01G  H05B  C08K  C08G  \\\n",
       "country/province/city        ...                                             \n",
       "Anhui                     1  ...     0     0     0     0     0     0     0   \n",
       "Beijing                   0  ...     0     0     0     0     0     0     0   \n",
       "Chongqing                 0  ...     0     0     0     0     0     0     0   \n",
       "Fujian                    1  ...     0     0     0     0     0     0     0   \n",
       "Gansu                     0  ...     0     0     0     0     0     0     0   \n",
       "\n",
       "                       C09K  C09J  A23C  \n",
       "country/province/city                    \n",
       "Anhui                     0     0     0  \n",
       "Beijing                   0     0     0  \n",
       "Chongqing                 0     0     0  \n",
       "Fujian                    0     0     0  \n",
       "Gansu                     0     0     0  \n",
       "\n",
       "[5 rows x 167 columns]"
      ]
     },
     "execution_count": 22,
     "metadata": {},
     "output_type": "execute_result"
    }
   ],
   "source": [
    "df_clustering_province.head()"
   ]
  },
  {
   "cell_type": "markdown",
   "metadata": {},
   "source": [
    "**Here the sum of specific technologies' category in each city or province is calculated and displayed in the histogram.**\n",
    "\n",
    "The graph shows that the majority of cities own 2-4 specific technologies' categories."
   ]
  },
  {
   "cell_type": "code",
   "execution_count": 23,
   "metadata": {},
   "outputs": [
    {
     "data": {
      "image/png": "[encoded data removed]",
      "text/plain": [
       "<Figure size 576x396 with 1 Axes>"
      ]
     },
     "metadata": {},
     "output_type": "display_data"
    }
   ],
   "source": [
    "sum_city=pd.DataFrame()\n",
    "sum_city[\"tech_sum\"] = df_clustering_city.sum(axis=1)\n",
    "ax=sns.histplot(data=sum_city, x=\"tech_sum\")"
   ]
  },
  {
   "cell_type": "code",
   "execution_count": 24,
   "metadata": {},
   "outputs": [
    {
     "data": {
      "text/plain": [
       "<AxesSubplot:xlabel='tech_sum', ylabel='Count'>"
      ]
     },
     "execution_count": 24,
     "metadata": {},
     "output_type": "execute_result"
    },
    {
     "data": {
      "image/png": "[encoded data removed]",
      "text/plain": [
       "<Figure size 576x396 with 1 Axes>"
      ]
     },
     "metadata": {},
     "output_type": "display_data"
    }
   ],
   "source": [
    "sum_province=pd.DataFrame()\n",
    "sum_province[\"tech_sum\"] = df_clustering_province.sum(axis=1)\n",
    "sns.histplot(data=sum_province, x=\"tech_sum\")"
   ]
  },
  {
   "cell_type": "markdown",
   "metadata": {},
   "source": [
    "#### 5.2 | Geographical Distribution of EPP Patent dataset"
   ]
  },
  {
   "cell_type": "markdown",
   "metadata": {},
   "source": [
    "The number of patents of EPP in all provinces or cities was counted. The top 15 provinces or cities are shown. Guangdong has the most significant number of patents, and Beijing is the second one."
   ]
  },
  {
   "cell_type": "code",
   "execution_count": 25,
   "metadata": {},
   "outputs": [
    {
     "data": {
      "text/plain": [
       "<AxesSubplot:xlabel='Province/Cities'>"
      ]
     },
     "execution_count": 25,
     "metadata": {},
     "output_type": "execute_result"
    },
    {
     "data": {
      "image/png": "[encoded data removed]",
      "text/plain": [
       "<Figure size 720x360 with 1 Axes>"
      ]
     },
     "metadata": {},
     "output_type": "display_data"
    }
   ],
   "source": [
    "#caculate the number of each degree\n",
    "\n",
    "num={} #dictionary\n",
    "for i in df_region['Province/Cities']:\n",
    "    if i not in num:\n",
    "        num[i]=1\n",
    "    else:\n",
    "        num[i]=num[i]+1\n",
    "        \n",
    "#Ranking\n",
    "num2=Counter(num).most_common() \n",
    "\n",
    "#change list into dataframe\n",
    "num=dict(num2)\n",
    "df_province_num= pd.DataFrame(num2,columns=['Province/Cities','counts'])\n",
    "m=np.arange(11,31)\n",
    "df_province_num.plot.bar(x ='Province/Cities', y = ['counts'], grid = True,figsize = (10,5))"
   ]
  },
  {
   "cell_type": "code",
   "execution_count": 26,
   "metadata": {},
   "outputs": [],
   "source": [
    "# Get index positions of value in dataframe i.e. dfObj\n",
    "def getIndexes(dfObj, value):\n",
    "    listOfPos =list()\n",
    "    # Get bool dataframe with True at positions where the given value exists\n",
    "    result = dfObj.isin([value])\n",
    "    # Get list of columns that contains the value\n",
    "    seriesObj = result.any()\n",
    "    columnNames = list(seriesObj[seriesObj == True].index)\n",
    "    # Iterate over list of columns and fetch the rows indexes where value exists\n",
    "    for col in columnNames:\n",
    "        rows = list(result[col][result[col] == True].index)\n",
    "        for row in rows:\n",
    "            listOfPos.append((row))\n",
    "    # Return a list of tuples indicating the positions of value in the dataframe\n",
    "    return listOfPos"
   ]
  },
  {
   "cell_type": "markdown",
   "metadata": {},
   "source": [
    "Among these provinces, Guangdong's number of patents in examination or valid and Beijing's number of patents in invalid are the most in the three categories, respectively."
   ]
  },
  {
   "cell_type": "code",
   "execution_count": 27,
   "metadata": {},
   "outputs": [
    {
     "data": {
      "image/png": "[encoded data removed]",
      "text/plain": [
       "<Figure size 576x396 with 1 Axes>"
      ]
     },
     "metadata": {},
     "output_type": "display_data"
    }
   ],
   "source": [
    "num=dict(num2)\n",
    "sns.set_theme(style=\"white\")\n",
    "\n",
    "df_status= pd.DataFrame(df_region,columns=['Province/Cities','Status'])\n",
    "\n",
    "k=['Fujian', 'Chongqing', 'Jilin', 'Hebei', \n",
    "   'Jiangxi', 'Yunnan', 'Taiwan', \n",
    "   'Guangxi', 'Hongkong', 'Guizhou',\n",
    "   'Xinjiang', 'Gansu', 'Neimenggu', \n",
    "   'Qinghai', 'Hainan', 'Ningxia']\n",
    "\n",
    "listOfPositions=list()\n",
    "for i in range(len(k)):\n",
    "    listOfPositions.append(getIndexes(df_status,k[i]))\n",
    "\n",
    "for i in range(len(listOfPositions)):\n",
    "    for m in range(len(listOfPositions[i])):\n",
    "        df_status.drop(index=listOfPositions[i][m],inplace= True)\n",
    "ax = sns.countplot(y=\"Province/Cities\", hue=\"Status\", data=df_status)"
   ]
  },
  {
   "cell_type": "markdown",
   "metadata": {},
   "source": [
    "***"
   ]
  },
  {
   "cell_type": "markdown",
   "metadata": {},
   "source": [
    "## 6.0 | Analysis"
   ]
  },
  {
   "cell_type": "markdown",
   "metadata": {},
   "source": [
    "#### **6.1 | Dectecting EPP Patents**"
   ]
  },
  {
   "cell_type": "markdown",
   "metadata": {},
   "source": [
    "The first part of the analysis will be building up a predictive model by using the training dataset we got from Google bigquery. This model will try to identify the EPP patents (test set) from enterprises related to (or non-related to) the epidemic prevention products industry. The test sets will not contain the patent used before."
   ]
  },
  {
   "cell_type": "markdown",
   "metadata": {},
   "source": [
    "**6.1.1 | Split the Dataset**"
   ]
  },
  {
   "cell_type": "code",
   "execution_count": 28,
   "metadata": {},
   "outputs": [],
   "source": [
    "# split data 65%-35% into training set and test set\n",
    "\n",
    "features_train, features_test, labels_train, labels_test = train_test_split(df_training_set_finished['text'].values,\n",
    "                                                                            df_training_set_finished['Label'].values, test_size=0.35)"
   ]
  },
  {
   "cell_type": "code",
   "execution_count": 29,
   "metadata": {},
   "outputs": [
    {
     "data": {
      "text/plain": [
       "(1028,)"
      ]
     },
     "execution_count": 29,
     "metadata": {},
     "output_type": "execute_result"
    }
   ],
   "source": [
    "features_train.shape"
   ]
  },
  {
   "cell_type": "code",
   "execution_count": 30,
   "metadata": {},
   "outputs": [
    {
     "data": {
      "text/plain": [
       "(554,)"
      ]
     },
     "execution_count": 30,
     "metadata": {},
     "output_type": "execute_result"
    }
   ],
   "source": [
    "features_test.shape"
   ]
  },
  {
   "cell_type": "markdown",
   "metadata": {},
   "source": [
    "**6.1.2 | Convert the Features of Patents to TFIDF**"
   ]
  },
  {
   "cell_type": "code",
   "execution_count": 31,
   "metadata": {},
   "outputs": [],
   "source": [
    "words_transform_pipe = Pipeline( [('vect', CountVectorizer(stop_words='english')),   #convert the text into word counts in the pipeline\n",
    "     ('tfidf',TfidfTransformer())]).fit(features_train)                              #use a TF-IDF transformer to convert the word counts to TFIDF"
   ]
  },
  {
   "cell_type": "code",
   "execution_count": 32,
   "metadata": {},
   "outputs": [],
   "source": [
    "words_transform_result=words_transform_pipe.transform(features_train)"
   ]
  },
  {
   "cell_type": "code",
   "execution_count": 33,
   "metadata": {},
   "outputs": [
    {
     "data": {
      "text/plain": [
       "(9424,)"
      ]
     },
     "execution_count": 33,
     "metadata": {},
     "output_type": "execute_result"
    }
   ],
   "source": [
    "words_transform_pipe['tfidf'].idf_.shape"
   ]
  },
  {
   "cell_type": "markdown",
   "metadata": {},
   "source": [
    "**6.1.3 | Prepare Grid Search**"
   ]
  },
  {
   "cell_type": "markdown",
   "metadata": {},
   "source": [
    "We have already got the training dataset. The next step is to set the parameters. To get the best parameters, we use grid search."
   ]
  },
  {
   "cell_type": "code",
   "execution_count": 34,
   "metadata": {},
   "outputs": [],
   "source": [
    "#Grid sweep parameters to use the SGDClassifier\n",
    "parameters = {\n",
    "    'loss': ['log'],\n",
    "    'penalty': ['none', 'l2', 'l1', 'elasticnet'],\n",
    "    'alpha': [0.0001,0.001, 0.01, 0.1,1],\n",
    "    'learning_rate': ['constant','optimal','invscaling'],\n",
    "    'eta0':[.5,1],\n",
    "    'class_weight': ['balanced', None]\n",
    "}\n",
    "\n",
    "#Grid search will find the best combination of parameters to use in  ML model\n",
    "grid_search = GridSearchCV(SGDClassifier(), parameters)"
   ]
  },
  {
   "cell_type": "markdown",
   "metadata": {},
   "source": [
    "The pipeline will contain three parts: countvectorizer,TF-IDF, grid search."
   ]
  },
  {
   "cell_type": "code",
   "execution_count": 35,
   "metadata": {},
   "outputs": [],
   "source": [
    "searching_clf = Pipeline( [('clf',grid_search)])  "
   ]
  },
  {
   "cell_type": "markdown",
   "metadata": {},
   "source": [
    "**6.1.4 | Search the Best Parameters**"
   ]
  },
  {
   "cell_type": "code",
   "execution_count": 36,
   "metadata": {},
   "outputs": [
    {
     "name": "stdout",
     "output_type": "stream",
     "text": [
      "Grid Searching\n"
     ]
    },
    {
     "data": {
      "text/plain": [
       "Pipeline(steps=[('clf',\n",
       "                 GridSearchCV(estimator=SGDClassifier(),\n",
       "                              param_grid={'alpha': [0.0001, 0.001, 0.01, 0.1,\n",
       "                                                    1],\n",
       "                                          'class_weight': ['balanced', None],\n",
       "                                          'eta0': [0.5, 1],\n",
       "                                          'learning_rate': ['constant',\n",
       "                                                            'optimal',\n",
       "                                                            'invscaling'],\n",
       "                                          'loss': ['log'],\n",
       "                                          'penalty': ['none', 'l2', 'l1',\n",
       "                                                      'elasticnet']}))])"
      ]
     },
     "execution_count": 36,
     "metadata": {},
     "output_type": "execute_result"
    }
   ],
   "source": [
    "#Fit the data\n",
    "print(\"Grid Searching\")\n",
    "searching_clf.fit(words_transform_result, labels_train)"
   ]
  },
  {
   "cell_type": "code",
   "execution_count": 37,
   "metadata": {},
   "outputs": [
    {
     "name": "stdout",
     "output_type": "stream",
     "text": [
      "The best score is: 0.9941510774331045\n",
      "The best parameter's values are:\n",
      "\talpha: 0.0001\n",
      "\tclass_weight: 'balanced'\n",
      "\teta0: 0.5\n",
      "\tlearning_rate: 'constant'\n",
      "\tloss: 'log'\n",
      "\tpenalty: 'none'\n"
     ]
    }
   ],
   "source": [
    "print(\"The best score is:\", grid_search.best_score_)\n",
    "\n",
    "print( \"The best parameter's values are:\" )\n",
    "best_parameters = grid_search.best_estimator_.get_params()\n",
    "for param_name in sorted(parameters.keys()):\n",
    "    print (\"\\t%s: %r\" % (param_name, best_parameters[param_name]))"
   ]
  },
  {
   "cell_type": "markdown",
   "metadata": {},
   "source": [
    "**We could also do a validation curve to detect the effectiveness of parameters. Here we take alpha as an example.**"
   ]
  },
  {
   "cell_type": "code",
   "execution_count": 38,
   "metadata": {},
   "outputs": [],
   "source": [
    "alpha = [0.0001,0.001, 0.01, 0.1]\n",
    "train_scores, valid_scores = validation_curve(estimator=SGDClassifier(), \n",
    "                                              X=words_transform_result, y=labels_train, \n",
    "                                              param_name=\"alpha\",\n",
    "                                              param_range=alpha,\n",
    "                                              cv=5)"
   ]
  },
  {
   "cell_type": "code",
   "execution_count": 39,
   "metadata": {},
   "outputs": [
    {
     "data": {
      "image/png": "[encoded data removed]",
      "text/plain": [
       "<Figure size 576x396 with 1 Axes>"
      ]
     },
     "metadata": {},
     "output_type": "display_data"
    }
   ],
   "source": [
    "# plotting the validation curve\n",
    "train_scores_mean = np.mean(train_scores, axis=1)\n",
    "train_scores_std = np.std(train_scores, axis=1)\n",
    "valid_scores_mean = np.mean(valid_scores, axis=1)\n",
    "valid_scores_std = np.std(valid_scores, axis=1)\n",
    "\n",
    "plt.title(\"Validation Curve with RF\")\n",
    "plt.xlabel(r\"number of trees\")\n",
    "plt.ylabel(\"Score\")\n",
    "plt.ylim(0.8, 1.0)\n",
    "lw = 2\n",
    "plt.semilogx(alpha, train_scores_mean, label=\"Training score\",\n",
    "             color=\"darkorange\", lw=lw)\n",
    "plt.fill_between(alpha, train_scores_mean - train_scores_std,\n",
    "                 train_scores_mean + train_scores_std, alpha=0.2,\n",
    "                 color=\"darkorange\", lw=lw)\n",
    "plt.semilogx(alpha, valid_scores_mean, label=\"Cross-validation score\",\n",
    "             color=\"navy\", lw=lw)\n",
    "plt.fill_between(alpha, valid_scores_mean - valid_scores_std,\n",
    "                 valid_scores_mean + valid_scores_std, alpha=0.2,\n",
    "                 color=\"navy\", lw=lw)\n",
    "plt.legend(loc=\"best\")\n",
    "plt.show()"
   ]
  },
  {
   "cell_type": "markdown",
   "metadata": {},
   "source": [
    "**6.1.5 | Use Validation Dataset to Exam the Score of Predefined Model**"
   ]
  },
  {
   "cell_type": "code",
   "execution_count": 40,
   "metadata": {},
   "outputs": [
    {
     "name": "stdout",
     "output_type": "stream",
     "text": [
      "Accuracy:  0.9873646209386282\n",
      "cross val score: [0.96396396 0.94594595 0.96396396 1.         0.99090909]\n"
     ]
    }
   ],
   "source": [
    "#grab the best estimator from the grid search\n",
    "estimator = grid_search.best_estimator_\n",
    "\n",
    "#create a reuseable pipepline to do the predictions\n",
    "final_pipeline = Pipeline( [('vect', CountVectorizer(stop_words='english')),\n",
    "     ('tfidf',TfidfTransformer()),\n",
    "     ('estimator', estimator)])\n",
    "\n",
    "final_pipeline.fit(features_train, labels_train)\n",
    "\n",
    "accuracy = final_pipeline.score(features_test, labels_test)\n",
    "print(\"Accuracy: \", accuracy)\n",
    "\n",
    "# do a cross val score\n",
    "score = cross_val_score(final_pipeline, features_test, labels_test)\n",
    "print(\"cross val score:\", score)"
   ]
  },
  {
   "cell_type": "code",
   "execution_count": 41,
   "metadata": {},
   "outputs": [
    {
     "name": "stdout",
     "output_type": "stream",
     "text": [
      "Confusion Matrix:\n",
      "\t  Pred True \t Pred False\n",
      "EPP True: 278 \t\t 0\n",
      "EPP False: 7 \t\t 269\n",
      "False Negatives: 0\n",
      "False Positives: 7\n"
     ]
    },
    {
     "data": {
      "image/png": "[encoded data removed]",
      "text/plain": [
       "<Figure size 450x300 with 2 Axes>"
      ]
     },
     "metadata": {},
     "output_type": "display_data"
    }
   ],
   "source": [
    "# plot confusion matrix\n",
    "labels_predicted = final_pipeline.predict(features_test)\n",
    "cm = confusion_matrix(labels_test, labels_predicted)\n",
    "\n",
    "# print in text format\n",
    "print(\"Confusion Matrix:\\n\\t\", \" Pred True \\t Pred False\")\n",
    "print\n",
    "print(\"EPP True:\", cm[0][0], \"\\t\\t\", cm[0][1])\n",
    "print(\"EPP False:\", cm[1][0], \"\\t\\t\", cm[1][1])\n",
    "print(\"False Negatives:\", cm[0][1])\n",
    "print(\"False Positives:\", cm[1][0])\n",
    "\n",
    "# plot confusion matrix with matplotlib.\n",
    "\n",
    "fig = plt.figure(figsize=(6, 4), dpi=75)\n",
    "plt.imshow(cm, interpolation=\"nearest\", cmap=plt.cm.Greens)\n",
    "plt.colorbar()\n",
    "\n",
    "plt.xlabel(\"Predicted\")\n",
    "plt.ylabel(\"Actual\")\n",
    "\n",
    "plt.text(0, 0, str(cm[0][0]), color='white', fontsize=12, horizontalalignment='center')\n",
    "plt.text(1, 0, str(cm[1][0]), color='black', fontsize=12, horizontalalignment='center')\n",
    "plt.text(0, 1, str(cm[0][1]), color='black', fontsize=12, horizontalalignment='center')\n",
    "plt.text(1, 1, str(cm[1][1]), color='white', fontsize=12, horizontalalignment='center')\n",
    "\n",
    "plt.show()"
   ]
  },
  {
   "cell_type": "markdown",
   "metadata": {},
   "source": [
    "**6.1.6 | Exam the Effectiveness of Predicted Model by Using External Patent Datasets**"
   ]
  },
  {
   "cell_type": "markdown",
   "metadata": {},
   "source": [
    "We pull patent applications where the harmonized assignee is GILEAD SCIENCES INC on the face of the patent. The query creates the exact text as above, but this time we will use it for prediction instead of training."
   ]
  },
  {
   "cell_type": "code",
   "execution_count": 42,
   "metadata": {},
   "outputs": [
    {
     "name": "stdout",
     "output_type": "stream",
     "text": [
      "(1403, 3)\n"
     ]
    }
   ],
   "source": [
    "assignee = \"GILEAD SCIENCES INC%\"\n",
    "\n",
    "query = \"\"\"\n",
    "select pubs.publication_number, --pubs.assignee_harmonized,\n",
    "      (SELECT text from UNNEST(pubs.title_localized)) as title,\n",
    "        CONCAT(\n",
    "        IFNULL(\n",
    "         (SELECT text from UNNEST(pubs.title_localized)LIMIT 1), \" \"), \" \",\n",
    "        IFNULL(\n",
    "         (SELECT text from UNNEST(pubs.abstract_localized) LIMIT 1), \" \"), \" \",\n",
    "        IFNULL(\n",
    "         ARRAY_TO_STRING( ARRAY(SELECT code from UNNEST(pubs.ipc)LIMIT 1), \" \"), \" \" ), \" \",\n",
    "        IFNULL(\n",
    "         ARRAY_TO_STRING( ARRAY(SELECT REGEXP_REPLACE( code, \"/.*\", \"\") from UNNEST(pubs.ipc)LIMIT 1), \" \"), \" \")) as text\n",
    "from\n",
    "  `patents-public-data.patents.publications` as pubs, UNNEST(title_localized) as title\n",
    "where \n",
    "country_code = 'US' and  --US only\n",
    "application_kind = 'A' and --patents only\n",
    "publication_date > 20000000 and  --The patents table uses a very awkward date formulation.  This queries for patents published after Jan 1, 2000.\n",
    "EXISTS( SELECT 1 name from UNNEST(assignee_harmonized) where name LIKE '\"\"\"+ assignee + \"\"\"')\"\"\"\n",
    "\n",
    "df_target = pd.read_gbq(query, project_id=PROJECT_ID, dialect='standard')\n",
    "\n",
    "print(df_target.shape)"
   ]
  },
  {
   "cell_type": "markdown",
   "metadata": {},
   "source": [
    "Use the pipeline and run the predictions. Using **predict_proba** gives us the probabilty."
   ]
  },
  {
   "cell_type": "code",
   "execution_count": 43,
   "metadata": {},
   "outputs": [],
   "source": [
    "predictions = final_pipeline.predict_proba(df_target.text.values)\n",
    "\n",
    "df_target['EPP_Predictions'] = [j for i,j in predictions]"
   ]
  },
  {
   "cell_type": "code",
   "execution_count": 44,
   "metadata": {},
   "outputs": [
    {
     "data": {
      "text/html": [
       "<div>\n",
       "<style scoped>\n",
       "    .dataframe tbody tr th:only-of-type {\n",
       "        vertical-align: middle;\n",
       "    }\n",
       "\n",
       "    .dataframe tbody tr th {\n",
       "        vertical-align: top;\n",
       "    }\n",
       "\n",
       "    .dataframe thead th {\n",
       "        text-align: right;\n",
       "    }\n",
       "</style>\n",
       "<table border=\"1\" class=\"dataframe\">\n",
       "  <thead>\n",
       "    <tr style=\"text-align: right;\">\n",
       "      <th></th>\n",
       "      <th>publication_number</th>\n",
       "      <th>title</th>\n",
       "      <th>EPP_Predictions</th>\n",
       "    </tr>\n",
       "  </thead>\n",
       "  <tbody>\n",
       "    <tr>\n",
       "      <th>874</th>\n",
       "      <td>US-7579332-B2</td>\n",
       "      <td>Nucleobase phosphonate analogs for antiviral treatment</td>\n",
       "      <td>0.998473</td>\n",
       "    </tr>\n",
       "    <tr>\n",
       "      <th>603</th>\n",
       "      <td>US-8809330-B2</td>\n",
       "      <td>Pyrazolo[1,5-A]pyrimidines for antiviral treatment</td>\n",
       "      <td>0.998253</td>\n",
       "    </tr>\n",
       "    <tr>\n",
       "      <th>110</th>\n",
       "      <td>US-7737162-B2</td>\n",
       "      <td>Viral inhibitors</td>\n",
       "      <td>0.998052</td>\n",
       "    </tr>\n",
       "    <tr>\n",
       "      <th>652</th>\n",
       "      <td>US-2020030327-A1</td>\n",
       "      <td>Anti-hiv compounds</td>\n",
       "      <td>0.997949</td>\n",
       "    </tr>\n",
       "    <tr>\n",
       "      <th>108</th>\n",
       "      <td>US-9278975-B2</td>\n",
       "      <td>Pyrazolo[1,5-A]pyrimidines as antiviral agents</td>\n",
       "      <td>0.997880</td>\n",
       "    </tr>\n",
       "  </tbody>\n",
       "</table>\n",
       "</div>"
      ],
      "text/plain": [
       "    publication_number  \\\n",
       "874      US-7579332-B2   \n",
       "603      US-8809330-B2   \n",
       "110      US-7737162-B2   \n",
       "652   US-2020030327-A1   \n",
       "108      US-9278975-B2   \n",
       "\n",
       "                                                      title  EPP_Predictions  \n",
       "874  Nucleobase phosphonate analogs for antiviral treatment         0.998473  \n",
       "603      Pyrazolo[1,5-A]pyrimidines for antiviral treatment         0.998253  \n",
       "110                                        Viral inhibitors         0.998052  \n",
       "652                                      Anti-hiv compounds         0.997949  \n",
       "108          Pyrazolo[1,5-A]pyrimidines as antiviral agents         0.997880  "
      ]
     },
     "metadata": {},
     "output_type": "display_data"
    }
   ],
   "source": [
    "#top 20 patents GILEAD SCIENCES INC owns that might be relevant to EPP:\n",
    "df_display = df_target.nlargest(20, 'EPP_Predictions').sort_values('EPP_Predictions', ascending=False)\n",
    "\n",
    "#make columns wrap instead of truncate:\n",
    "pd.set_option('display.max_colwidth', None)\n",
    "#drop the text column on display so it doesn't clutter everything, then display\n",
    "display(df_display.drop(\"text\", axis=1).head())"
   ]
  },
  {
   "cell_type": "markdown",
   "metadata": {},
   "source": [
    "The examing results indicate that the prediction model we built could detect EPP patents. Here this example uses  **GILEAD SCIENCES INC**, which belongs to the medical industry. Thus, changing the enterprise to another and looking at how the score **(predict_proba)** changes could be done in the future."
   ]
  },
  {
   "cell_type": "markdown",
   "metadata": {},
   "source": [
    "#### 6.2 | Clustering Cities and Provinces"
   ]
  },
  {
   "cell_type": "markdown",
   "metadata": {},
   "source": [
    "**6.2.1 | Calculate Multidimentional Reduction**"
   ]
  },
  {
   "cell_type": "markdown",
   "metadata": {},
   "source": [
    "This def show how the Multidimentional Reduction is calculated."
   ]
  },
  {
   "cell_type": "code",
   "execution_count": 45,
   "metadata": {},
   "outputs": [],
   "source": [
    "def calculate_distance_matrix(x):\n",
    "    d=metrics.pairwise_distances(x)\n",
    "    return d\n",
    " \n",
    "def cal_B(D):\n",
    "    (n1,n2)=D.shape\n",
    "    DD=np.square(D)\n",
    "    Di=np.sum(DD,axis=1)/n1\n",
    "    Dj=np.sum(DD,axis=0)/n1\n",
    "    Dij=np.sum(DD)/(n1**2)\n",
    "    B=np.zeros((n1,n1))\n",
    "    for i in range(n1):\n",
    "        for j in range(n2):\n",
    "            B[i,j]=(Dij+DD[i,j]-Di[i]-Dj[j])/(-2)\n",
    "    return B   \n",
    " \n",
    "def MDS(data,n=2):\n",
    "    D=calculate_distance_matrix(data)\n",
    "    B=cal_B(D)\n",
    "    Be,Bv=np.linalg.eigh(B)\n",
    "    Be_sort=np.argsort(-Be)\n",
    "    Be=Be[Be_sort]\n",
    "    Bv=Bv[:,Be_sort]\n",
    "    Bez=np.diag(Be[0:n])\n",
    "    Bvz=Bv[:,0:n]\n",
    "    Z=np.dot(np.sqrt(Bez),Bvz.T).T\n",
    "    return Z"
   ]
  },
  {
   "cell_type": "markdown",
   "metadata": {},
   "source": [
    "We calculate the MDS for two level: city and province."
   ]
  },
  {
   "cell_type": "code",
   "execution_count": 46,
   "metadata": {},
   "outputs": [],
   "source": [
    "Z=MDS(df_clustering_city)\n",
    "Z2=MDS(df_clustering_province)"
   ]
  },
  {
   "cell_type": "markdown",
   "metadata": {},
   "source": [
    "**6.2.2 | Clustering**"
   ]
  },
  {
   "cell_type": "markdown",
   "metadata": {},
   "source": [
    "The whole parts of clustering algorithms were integrated into this def. The results will be shown in four graphs. The first one shows how the data distributed in a 2-D dimension. The second and third graphs will show the results of the K value tests. The last one is the K-Means result of using the best k value."
   ]
  },
  {
   "cell_type": "code",
   "execution_count": 47,
   "metadata": {},
   "outputs": [],
   "source": [
    "def clustering(data,col):\n",
    "    MDSresult=pd.DataFrame(data, columns=['X','Y']) \n",
    "    model = sk_cluster.KMeans()\n",
    "    p_tests=[\"distortion\",\"silhouette\"]\n",
    "    k_values = []\n",
    "    k_values_score = []\n",
    "    \n",
    "    # Visualise the points.\n",
    "    fig, ax = plt.subplots()\n",
    "    plt.scatter(x=MDSresult['X'], y=MDSresult['Y'], label='Observations',s=14,c='grey')\n",
    "    plt.legend()\n",
    "    plt.title(f\"Graphical Results of {col} Projecting \")\n",
    "    plt.xlabel('X')\n",
    "    plt.ylabel('Y')\n",
    "    \n",
    "    # Visualise the test (distortion, silhouette) results.\n",
    "    for index,test in enumerate(p_tests):\n",
    "        fig, ax = plt.subplots()\n",
    "        model_tests = KElbowVisualizer(model, metric = test)\n",
    "        model_tests.fit(MDSresult)\n",
    "        model_tests.show()\n",
    "        k_values.append(model_tests.elbow_value_)\n",
    "        k_values_score.append(model_tests.elbow_score_)\n",
    "        \n",
    "    # Visualise KMeans results\n",
    "    fig, ax = plt.subplots()\n",
    "    color_for_use=[]\n",
    "    colorscheme = np.array(['red', 'blue','black','pink','yellow'])\n",
    "    if k_values_score[0] > k_values_score[1]:    \n",
    "        kmeans = KMeans(n_clusters=k_values[0])\n",
    "        kmeans.fit(MDSresult)\n",
    "        categories = kmeans.predict(MDSresult)\n",
    "        for i in range(k_values[0]):\n",
    "            color_for_use.append(colorscheme[i])\n",
    "    else:\n",
    "        kmeans = KMeans(n_clusters=k_values[1])\n",
    "        kmeans.fit(MDSresult)\n",
    "        categories = kmeans.predict(MDSresult)\n",
    "        for i in range(k_values[1]):\n",
    "            color_for_use.append(colorscheme[i])\n",
    "    \n",
    "    colormap=np.array(color_for_use)\n",
    "        \n",
    "    plt.scatter(x=MDSresult['X'], y=MDSresult['Y'], c=colormap[categories], s=10, cmap='viridis')\n",
    "    centers = kmeans.cluster_centers_\n",
    "    plt.scatter(centers[:, 0], centers[:, 1], c='red', s=100, alpha=0.4);\n",
    "    plt.title(f\"Graphical Results of {col} Clustering \")\n",
    "    plt.xlabel('X')\n",
    "    plt.ylabel('Y')\n",
    "    return categories"
   ]
  },
  {
   "cell_type": "code",
   "execution_count": 48,
   "metadata": {},
   "outputs": [
    {
     "data": {
      "image/png": "[encoded data removed]",
      "text/plain": [
       "<Figure size 576x396 with 1 Axes>"
      ]
     },
     "metadata": {},
     "output_type": "display_data"
    },
    {
     "data": {
      "image/png": "[encoded data removed]",
      "text/plain": [
       "<Figure size 576x396 with 2 Axes>"
      ]
     },
     "metadata": {},
     "output_type": "display_data"
    },
    {
     "data": {
      "image/png": "[encoded data removed]",
      "text/plain": [
       "<Figure size 576x396 with 2 Axes>"
      ]
     },
     "metadata": {},
     "output_type": "display_data"
    },
    {
     "data": {
      "image/png": "[encoded data removed]",
      "text/plain": [
       "<Figure size 576x396 with 1 Axes>"
      ]
     },
     "metadata": {},
     "output_type": "display_data"
    }
   ],
   "source": [
    "categories= clustering(Z,'City')"
   ]
  },
  {
   "cell_type": "code",
   "execution_count": 49,
   "metadata": {},
   "outputs": [
    {
     "data": {
      "image/png": "[encoded data removed]",
      "text/plain": [
       "<Figure size 576x396 with 1 Axes>"
      ]
     },
     "metadata": {},
     "output_type": "display_data"
    },
    {
     "data": {
      "image/png": "[encoded data removed]",
      "text/plain": [
       "<Figure size 576x396 with 2 Axes>"
      ]
     },
     "metadata": {},
     "output_type": "display_data"
    },
    {
     "data": {
      "image/png": "[encoded data removed]",
      "text/plain": [
       "<Figure size 576x396 with 2 Axes>"
      ]
     },
     "metadata": {},
     "output_type": "display_data"
    },
    {
     "data": {
      "text/plain": [
       "array([0, 2, 0, 0, 1, 3, 0, 1, 1, 1, 0, 0, 0, 0, 1, 3, 1, 0, 0, 1, 1, 1,\n",
       "       2, 2, 0, 0, 0, 0, 1, 1, 2], dtype=int32)"
      ]
     },
     "execution_count": 49,
     "metadata": {},
     "output_type": "execute_result"
    },
    {
     "data": {
      "image/png": "[encoded data removed]",
      "text/plain": [
       "<Figure size 576x396 with 1 Axes>"
      ]
     },
     "metadata": {},
     "output_type": "display_data"
    }
   ],
   "source": [
    "clustering(Z2,'Province')"
   ]
  },
  {
   "cell_type": "markdown",
   "metadata": {},
   "source": [
    "The result of clustering for province performs not well relatively. This may because the samples of this level are relatively small."
   ]
  },
  {
   "cell_type": "markdown",
   "metadata": {},
   "source": [
    "**6.2.3 | Extract Information of each Cities' Clusters**"
   ]
  },
  {
   "cell_type": "markdown",
   "metadata": {},
   "source": [
    "Here we extract the cluster information of cities to look at how cities aggregated."
   ]
  },
  {
   "cell_type": "code",
   "execution_count": 50,
   "metadata": {},
   "outputs": [],
   "source": [
    "def cluster_tech(p_df_clustering_city,p_category):\n",
    "    citycluster=pd.DataFrame()\n",
    "    citycluster['cluster']=p_category\n",
    "    df_clustering_resetindex=p_df_clustering_city.reset_index()\n",
    "    df_clustering_cityresult=pd.concat([df_clustering_resetindex, citycluster], axis=1)\n",
    "    d=[]\n",
    "    cluster_tech_display=[]\n",
    "    for i in range(4):\n",
    "        d.append(df_clustering_cityresult[df_clustering_cityresult['cluster'] == i])\n",
    "        drop_col=['cluster']\n",
    "        for index, entry in enumerate(drop_col):\n",
    "            d[i]=d[i].drop(drop_col[index], axis=1)\n",
    "        d[i]=d[i].T \n",
    "        d[i].columns = d[i].iloc[0]\n",
    "        d[i] = d[i].iloc[1:]\n",
    "        d[i]['Col_sum'] = d[i].apply(lambda x: x.sum (), axis = 1)\n",
    "\n",
    "        cluster_tech_display.append(d[i].nlargest(10, 'Col_sum').sort_values('Col_sum', ascending=False)) # only return top 10 technologies.\n",
    "        cluster_tech_display[i]=cluster_tech_display[i].reset_index()\n",
    "        cluster_tech_display[i].columns.names = ['id']\n",
    "        cluster_tech_display[i]=cluster_tech_display[i].rename(columns={'index': 'IPC'})\n",
    "        \n",
    "    return cluster_tech_display[0],cluster_tech_display[1],cluster_tech_display[2],cluster_tech_display[3]"
   ]
  },
  {
   "cell_type": "code",
   "execution_count": 51,
   "metadata": {},
   "outputs": [],
   "source": [
    "cluster1_tech,cluster2_tech,cluster3_tech,cluster4_tech = cluster_tech(df_clustering_city,categories)"
   ]
  },
  {
   "cell_type": "code",
   "execution_count": 52,
   "metadata": {},
   "outputs": [
    {
     "data": {
      "text/plain": [
       "Index(['IPC', 'Akesu', 'Anshan', 'Anyang', 'Baise', 'Baiying', 'Bangbu',\n",
       "       'Baoji', 'Baotou', 'Binzhou',\n",
       "       ...\n",
       "       'Zhaoyuan', 'Zhongwei', 'Zhoushan', 'Zhuji', 'Zhuzhou', 'Zibo',\n",
       "       'Zigong', 'Zoucheng', 'Zunyi', 'Col_sum'],\n",
       "      dtype='object', name='id', length=110)"
      ]
     },
     "execution_count": 52,
     "metadata": {},
     "output_type": "execute_result"
    }
   ],
   "source": [
    "cluster1_tech.columns"
   ]
  },
  {
   "cell_type": "code",
   "execution_count": 53,
   "metadata": {},
   "outputs": [
    {
     "data": {
      "text/plain": [
       "0    A61H\n",
       "1    A61B\n",
       "2    B25J\n",
       "3    A41D\n",
       "4    C02F\n",
       "5    G06F\n",
       "6    A61L\n",
       "7    A61G\n",
       "8    A61F\n",
       "9    G16H\n",
       "Name: IPC, dtype: object"
      ]
     },
     "execution_count": 53,
     "metadata": {},
     "output_type": "execute_result"
    }
   ],
   "source": [
    "cluster1_tech['IPC']"
   ]
  },
  {
   "cell_type": "code",
   "execution_count": 54,
   "metadata": {},
   "outputs": [
    {
     "data": {
      "text/plain": [
       "Index(['IPC', 'Beijing', 'Chengdu', 'Chongqing', 'Guangzhou', 'Hangzhou',\n",
       "       'Hefei', 'Jinan', 'Nanjing', 'Qingdao', 'Shanghai', 'Shenzhen',\n",
       "       'Suzhou', 'Tianjin', 'Wuhan', 'Xi'an', 'Zhengzhou', 'Col_sum'],\n",
       "      dtype='object', name='id')"
      ]
     },
     "execution_count": 54,
     "metadata": {},
     "output_type": "execute_result"
    }
   ],
   "source": [
    "cluster2_tech.columns"
   ]
  },
  {
   "cell_type": "code",
   "execution_count": 55,
   "metadata": {},
   "outputs": [
    {
     "data": {
      "text/plain": [
       "0    A61K\n",
       "1    A61P\n",
       "2    C12Q\n",
       "3    C12N\n",
       "4    G06F\n",
       "5    A61H\n",
       "6    A61L\n",
       "7    G01N\n",
       "8    A61B\n",
       "9    G06T\n",
       "Name: IPC, dtype: object"
      ]
     },
     "execution_count": 55,
     "metadata": {},
     "output_type": "execute_result"
    }
   ],
   "source": [
    "cluster2_tech['IPC']"
   ]
  },
  {
   "cell_type": "code",
   "execution_count": 56,
   "metadata": {},
   "outputs": [
    {
     "data": {
      "text/plain": [
       "Index(['IPC', 'Aba', 'Anguo', 'Ankang', 'Baoding', 'Bozhou', 'Chifeng',\n",
       "       'Daqing', 'Dunhua', 'Feixian', 'Fushun', 'Fuyang', 'Ganzhou', 'Guigang',\n",
       "       'Guilin', 'Haikou', 'Hegang', 'Heihe', 'Hengyang', 'Heze', 'Huludao',\n",
       "       'Huzhou', 'Ji'an', 'Jiangmen', 'Jiangyan', 'Jieyang', 'Jingzhou',\n",
       "       'Jinhua', 'Jixi', 'Langfang', 'Lanxi', 'Lianyungang', 'Linyi', 'Lishui',\n",
       "       'Luohe', 'Meihekou', 'Nanchang', 'Nanning', 'Ningde', 'Pingdingshan',\n",
       "       'Qiannan', 'Rizhao', 'Shangrao', 'Shaoguan', 'Shaoxing', 'Shijiazhuang',\n",
       "       'Shiyan', 'Siping', 'Suihua', 'Taizhong', 'Tangshan', 'Tianshui',\n",
       "       'Tonghua', 'Tongliao', 'Urumchi', 'Xiangyang', 'Xining', 'Xuchang',\n",
       "       'Xuzhou', 'Ya'an', 'Yantai', 'Yichang', 'Yinchuan', 'Yiwu', 'Yongzhou',\n",
       "       'Yueyang', 'Yuncheng', 'Yunfu', 'Zaozhuang', 'Zhangzhou', 'Zhaoqing',\n",
       "       'Zhuhai', 'Col_sum'],\n",
       "      dtype='object', name='id')"
      ]
     },
     "execution_count": 56,
     "metadata": {},
     "output_type": "execute_result"
    }
   ],
   "source": [
    "cluster3_tech.columns"
   ]
  },
  {
   "cell_type": "code",
   "execution_count": 57,
   "metadata": {},
   "outputs": [
    {
     "data": {
      "text/plain": [
       "0    A61K\n",
       "1    A61P\n",
       "2    A61H\n",
       "3    G06F\n",
       "4    C12Q\n",
       "5    C07D\n",
       "6    G16H\n",
       "7    C12N\n",
       "8    G01N\n",
       "9    A61B\n",
       "Name: IPC, dtype: object"
      ]
     },
     "execution_count": 57,
     "metadata": {},
     "output_type": "execute_result"
    }
   ],
   "source": [
    "cluster3_tech['IPC']"
   ]
  },
  {
   "cell_type": "code",
   "execution_count": 58,
   "metadata": {},
   "outputs": [
    {
     "data": {
      "text/plain": [
       "Index(['IPC', 'Changchun', 'Changsha', 'Dalian', 'Dongguan', 'Foshan',\n",
       "       'Fuzhou', 'Guiyang', 'Harbin', 'Kunming', 'Lanzhou', 'Liuzhou',\n",
       "       'Luoyang', 'Nantong', 'Ningbo', 'Shenyang', 'Taibei', 'Taizhou',\n",
       "       'Weifang', 'Wuhu', 'Wuxi', 'Xiamen', 'Yangzhou', 'Zhenjiang',\n",
       "       'Zhongshan', 'Col_sum'],\n",
       "      dtype='object', name='id')"
      ]
     },
     "execution_count": 58,
     "metadata": {},
     "output_type": "execute_result"
    }
   ],
   "source": [
    "cluster4_tech.columns"
   ]
  },
  {
   "cell_type": "code",
   "execution_count": 59,
   "metadata": {},
   "outputs": [
    {
     "data": {
      "text/plain": [
       "0    A61K\n",
       "1    A61P\n",
       "2    G16H\n",
       "3    A61B\n",
       "4    A61H\n",
       "5    G06F\n",
       "6    C02F\n",
       "7    A61L\n",
       "8    G06Q\n",
       "9    C12Q\n",
       "Name: IPC, dtype: object"
      ]
     },
     "execution_count": 59,
     "metadata": {},
     "output_type": "execute_result"
    }
   ],
   "source": [
    "cluster4_tech['IPC']"
   ]
  },
  {
   "cell_type": "markdown",
   "metadata": {},
   "source": [
    "**The form is the descriptions of IPCs shown above.**"
   ]
  },
  {
   "cell_type": "markdown",
   "metadata": {},
   "source": [
    "|IPC | Description                                                                                                | Notes                                                    |\n",
    "|----|------------------------------------------------------------------------------------------------------------|----------------------------------------------------------|\n",
    "|A41D| OUTERWEAR;PROTECTIVE GARMENTS;ACCESSORIES                                                                  |                                                          |\n",
    "|A61B| DIAGNOSIS;SURGERY; IDENTIFICATION                                                                          | analysing biological material G01N, e.g. G01N 33/48      |\n",
    "|A61F| FILTERS IMPLANTABLE INTO BLOOD VESSELS; PROSTHESES; DEVICES PROVIDING PATENCY TO, OR PREVENTING COLLAPSING OF, TUBULAR STRUCTURES OF THE BODY, e.g. STENTS; ORTHOPAEDIC, NURSING OR CONTRACEPTIVE DEVICES; FOMENTATION; TREATMENT OR PROTECTION OF EYES OR EARS; BANDAGES, DRESSINGS OR ABSORBENT PADS; FIRST-AID KITS                                                                                                                                       |dental prosthetics A61C                                   |\n",
    "|A61G| TRANSPORT, PERSONAL CONVEYANCES, OR ACCOMMODATION SPECIALLY ADAPTED FOR PATIENTS OR DISABLED PERSONS; OPERATING TABLES OR CHAIRS; CHAIRS FOR DENTISTRY; FUNERAL DEVICES                                                                                                                   |appliances for aiding patients or disabled persons to walk A61H 3/00;embalming corpses A01N 1/00                                                                                                                                        |\n",
    "|A61H| PHYSICAL THERAPY APPARATUS, e.g. DEVICES FOR LOCATING OR STIMULATING REFLEX POINTS IN THE BODY; ARTIFICIAL RESPIRATION; MASSAGE; BATHING DEVICES FOR SPECIAL THERAPEUTIC OR HYGIENIC PURPOSES OR SPECIFIC PARTS OF THE BODY                                                    | electrotherapy, magnetotherapy, radiation therapy, ultrasound therapy A61N                                                                                                                                                      |\n",
    "|A61K|PREPARATIONS FOR MEDICAL, DENTAL, OR TOILET PURPOSES                                                        | devices or methods specially adapted for bringing pharmaceutical products into particular physical or administering forms A61J 3/00; chemical aspects of, or use of materials for deodorisation of air, for disinfection or sterilisation, or for bandages, dressings, absorbent pads or surgical articles A61L; soap compositions C11D                                                                  |\n",
    "|A61L|METHODS OR APPARATUS FOR STERILISING MATERIALS OR OBJECTS IN GENERAL; DISINFECTION, STERILISATION, OR DEODORISATION OF AIR; CHEMICAL ASPECTS OF BANDAGES, DRESSINGS, ABSORBENT PADS, OR SURGICAL ARTICLES; MATERIALS FOR BANDAGES, DRESSINGS, ABSORBENT PADS, OR SURGICAL ARTICLES     |preservation of bodies or disinfecting characterised by the agent employed A01N; preserving, e.g. sterilising, food or foodstuffs A23; preparations for medical, dental or toilet purposes A61K                                          |\n",
    "|A61P|SPECIFIC THERAPEUTIC ACTIVITY OF CHEMICAL COMPOUNDS OR MEDICINAL PREPARATIONS                               |                                                          |\n",
    "|B25J|MANIPULATORS; CHAMBERS PROVIDED WITH MANIPULATION DEVICES                                                   |                                                          |\n",
    "|C02F|TREATMENT OF WATER, WASTE WATER, SEWAGE, OR SLUDGE                                                          |                                                          |\n",
    "|C07D|HETEROCYCLIC COMPOUNDS                                                                                      | macromolecular compounds C08                             |\n",
    "|C12N|MICROORGANISMS OR ENZYMES; COMPOSITIONS THEREOF; PROPAGATING, PRESERVING, OR MAINTAINING MICROORGANISMS; MUTATION OR GENETIC ENGINEERING; CULTURE MEDIA                                                                                                                                   | microbiological testing media C12Q 1/00                  |\n",
    "|C12Q|MEASURING OR TESTING PROCESSES INVOLVING ENZYMES, NUCLEIC ACIDS OR MICROORGANISMS ; COMPOSITIONS OR TEST PAPERS THEREFOR; PROCESSES OF PREPARING SUCH COMPOSITIONS; CONDITION-RESPONSIVE CONTROL IN MICROBIOLOGICAL OR ENZYMOLOGICAL PROCESSES                                        | immunoassay G01N 33/53                                   |\n",
    "|G01N|INVESTIGATING OR ANALYSING MATERIALS BY DETERMINING THEIR CHEMICAL OR PHYSICAL PROPERTIES                   |measuring or testing processes other than immunoassay, involving enzymes or microorganisms C12M, C12Q                                                                                                                               |\n",
    "|G06F|ELECTRIC DIGITAL DATA PROCESSING                                                                            |computer systems based on specific computational models G06N                                                                                                                                                                         |\n",
    "|G06Q|DATA PROCESSING SYSTEMS OR METHODS, SPECIALLY ADAPTED FOR ADMINISTRATIVE, COMMERCIAL, FINANCIAL, MANAGERIAL, SUPERVISORY OR FORECASTING PURPOSES; SYSTEMS OR METHODS SPECIALLY ADAPTED FOR ADMINISTRATIVE, COMMERCIAL, FINANCIAL, MANAGERIAL, SUPERVISORY OR FORECASTING PURPOSES, NOT OTHERWISE PROVIDED FOR                                                                                                                                                         |                                                          |\n",
    "|G06T|IMAGE DATA PROCESSING OR GENERATION, IN GENERAL                                                             |                                                          |\n",
    "|G16H|HEALTHCARE INFORMATICS, i.e. INFORMATION AND COMMUNICATION TECHNOLOGY (ICT) SPECIALLY ADAPTED FOR THE HANDLING OR PROCESSING OF MEDICAL OR HEALTHCARE DATA                                                                                                                                 |                                                          |"
   ]
  },
  {
   "cell_type": "markdown",
   "metadata": {},
   "source": [
    "***"
   ]
  },
  {
   "cell_type": "markdown",
   "metadata": {},
   "source": [
    "## 7.0 | Discussion and Conclusion"
   ]
  },
  {
   "cell_type": "markdown",
   "metadata": {},
   "source": [
    "In conclusion, this paper looks deep into China's EPP patents spatial distribution and the main technologies embedded in patents and tries to find technologies clusters at the city and province level. A prediction model for detecting EPP patents was trained, validated and tested. These works are finished to answer these questions:\n",
    "         \n",
    "    RQ1 | How do China's cities aggregated when considering various types of technologies embedded in EPP patents they own?\n",
    "    RQ2 | How could a EPP patent prediction model be built by using Machine Learning on patent documents? How accurate is this model's prediction?\n",
    "    RQ3 | Is there any clustering diversity when two different space scale are implemented?\n",
    "\n",
    "China's cities could be clustering into four groups when considering the types of EPP technologies they own. Unlike other groups, one group of cities show their strength on A61H and A61B, which refers to PHYSICAL THERAPY APPARATUS and DIAGNOSIS; SURGERY; IDENTIFICATION. This group contains Akesu, Baise, Baiying, Bangbu, Baoji, Baotou, Binzhou, etc. Most cities in these group own a small amount of EPP technologies resources relatively. Another group's cities are also easily distinguished, and it contains Beijing, Chengdu, Chongqing, Guangzhou, Hangzhou, Hefei, Jinan, Nanjing, Qingdao, Shanghai, Shenzhen, etc. This group of cities cover almost all types of technologies shown in the EPP dataset, and the strength of EPP patents production is much higher than any other groups of cities. The other two groups of cities focus on A61K and A61P. one of the two groups contains Changchun, Changsha, Dalian, Dongguan, Foshan, Fuzhou, Guiyang, Harbin, Kunming, Lanzhou, Liuzhou, Luoyang, Nantong, Ningbo, Shenyang, Taibei, etc. Most of the cities in this group are central cities in their region or urban agglomeration. The last one also owns a small amount of EPP technologies resources. The results show that the hierarchical system of EPP patent technologies has been embedded since 1995 when the first EPP patent was published in China.\n",
    "\n",
    "As for differences of clustering in two different spatial scale, the result of province level is not well, which may cause by the size of the sample. The distribution of each province is relatively more scattered compared to the city level. The score of distortion and silhouette are both low when doing K-Means clustering. In the future, the spatial scale of the study can be reduced to district level or further. \n",
    "\n",
    "The results from applying machine learning show that the prediction model could detect the EPP patents. The confusion matrix, cross Val score, and accuracy show that the model has a relatively good accurate identification ability. However, in the future, detecting more specific patents (EPP is a massive collection of various patents) based on their technologies could be more valuable."
   ]
  },
  {
   "cell_type": "markdown",
   "metadata": {},
   "source": [
    "***"
   ]
  },
  {
   "cell_type": "markdown",
   "metadata": {},
   "source": [
    "## Bibliography"
   ]
  },
  {
   "cell_type": "markdown",
   "metadata": {},
   "source": [
    "AMIN, A. and THRIFT, N. (1992) ‘Neo‐Marshallian Nodes in Global Networks’, International Journal of Urban and Regional Research, 16(4), pp. 571–587. doi: 10.1111/j.1468-2427.1992.tb00197.x.\n",
    "\n",
    "Asheim, B., Coenen, L. and Vang, J. (2007) ‘Face-to-Face, Buzz, and Knowledge Bases: Sociospatial Implications for Learning, Innovation, and Innovation Policy’, Environment and Planning C: Government and Policy, 25(5), pp. 655–670. doi: 10.1068/c0648.\n",
    "\n",
    "Aydalot, P. and Keeble, D. (1988) High technology industry and innovative environments : the European experience / edited by Philippe Aydalot and David Keeble. Edited by P. Aydalot et al. London: Routledge.\n",
    "\n",
    "Bagchi-Sen, S., Smith, H. L. and Hall, L. (2004) ‘The US biotechnology industry: Industry dynamics and policy’, Environment and Planning C: Government and Policy, 22(2), pp. 199–216. doi: 10.1068/c0345.\n",
    "\n",
    "Coenen, L., Moodysson, J. and Asheim, B. T. (2004) ‘Nodes, networks and proximities: on the knowledge dynamics of the Medicon Valley biotech cluster’, European planning studies, 12(7), pp. 1003–1018. doi: 10.1080/0965431042000267876.\n",
    "\n",
    "Cooke, P. (1992) ‘Regional innovation systems: Competitive regulation in the new Europe’, Geoforum, 23(3), pp. 365–382. doi: 10.1016/0016-7185(92)90048-9.\n",
    "\n",
    "Das, K. (1998) ‘Collective dynamism and firm strategy: Study of an indian industrial cluster’, Entrepreneurship and Regional Development, 10(1). doi: 10.1080/08985629800000003.\n",
    "\n",
    "Georghiou, L. (1993) ‘ National Systems of Innovation. Towards a Theory of Innovation and Interactive Learning edited by Bengt-Ake Lundvall (Pinter Publishers, London. 1992) pp. xiii + 342, £45, ISBN 1-85567-063-1 ’, Prometheus, 11(2), pp. 291–291. doi: 10.1080/08109029308629360.\n",
    "\n",
    "Granovetter, M. (1985) ‘Economic Action and Social Structure: The Problem of Embeddedness’, American Journal of Sociology, 91(3), pp. 481–510. doi: 10.1086/228311.\n",
    "\n",
    "Jun, S., Park, S. S. and Jang, D. S. (2012) ‘Patent Management for Technology Forecasting: A Case study of the bio-industry’, Journal of Intellectual Property Rights, 17(6).\n",
    "\n",
    "Jun, S. (2016) ‘Time series clustering model based on complexity for apple technology forecasting’, International Journal of Applied Engineering Research, 11(20), pp. 10343–10347.\n",
    "\n",
    "Kim, G. and Bae, J. (2017) ‘A novel approach to forecast promising technology through patent analysis’, Technological Forecasting and Social Change, 117, pp. 228–237. doi: 10.1016/j.techfore.2016.11.023.\n",
    "\n",
    "Park, Y., Yoon, B. and Lee, S. (2005) ‘The idiosyncrasy and dynamism of technological innovation across industries: Patent citation analysis’, Technology in Society, 27(4), pp. 471–485. doi: 10.1016/j.techsoc.2005.08.003.\n",
    "\n",
    "Plum, O. and Hassink, R. (2011) ‘Comparing knowledge networking in different knowledge bases in Germany’, Papers in regional science, 90(2), pp. 355–371. doi: 10.1111/j.1435-5957.2011.00362.x.\n",
    "\n",
    "Shih, M. J., Liu, D. R. and Hsu, M. L. (2010) ‘Discovering competitive intelligence by mining changes in patent trends’, Expert Systems with Applications, 37(4), pp. 2882–2890. doi: 10.1016/j.eswa.2009.09.001."
   ]
  },
  {
   "cell_type": "markdown",
   "metadata": {},
   "source": [
    "***"
   ]
  },
  {
   "cell_type": "markdown",
   "metadata": {},
   "source": [
    "## Appendix"
   ]
  },
  {
   "cell_type": "markdown",
   "metadata": {},
   "source": [
    "The original data used in this notebook could be found [here](https://ncp.patentstar.cn/).\n",
    "\n",
    "The machine learning codes used in this notebook largely based on this [notebook](https://github.com/DeltaCharlieAlpha/PatentAnalysisNotebooks/blob/master/PatentAnalysisExample.ipynb).The author is  [DeltaCharlieAlpha](https://github.com/DeltaCharlieAlpha)."
   ]
  }
 ],
 "metadata": {
  "kernelspec": {
   "display_name": "Python 3",
   "language": "python",
   "name": "python3"
  },
  "language_info": {
   "codemirror_mode": {
    "name": "ipython",
    "version": 3
   },
   "file_extension": ".py",
   "mimetype": "text/x-python",
   "name": "python",
   "nbconvert_exporter": "python",
   "pygments_lexer": "ipython3",
   "version": "3.7.8"
  }
 },
 "nbformat": 4,
 "nbformat_minor": 4
}
